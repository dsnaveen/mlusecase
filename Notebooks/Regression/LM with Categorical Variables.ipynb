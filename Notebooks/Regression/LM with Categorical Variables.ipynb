{
 "cells": [
  {
   "cell_type": "code",
   "execution_count": 1,
   "metadata": {},
   "outputs": [
    {
     "name": "stderr",
     "output_type": "stream",
     "text": [
      "/Users/naveenkumar/anaconda/lib/python2.7/site-packages/statsmodels/compat/pandas.py:56: FutureWarning: The pandas.core.datetools module is deprecated and will be removed in a future version. Please use the pandas.tseries module instead.\n",
      "  from pandas.core import datetools\n"
     ]
    }
   ],
   "source": [
    "import pandas as pd\n",
    "import numpy as np\n",
    "import itertools\n",
    "from itertools import chain, combinations\n",
    "import statsmodels.formula.api as smf\n",
    "import scipy.stats as scipystats\n",
    "import statsmodels.api as sm\n",
    "import statsmodels.stats.stattools as stools\n",
    "import statsmodels.stats as stats\n",
    "from statsmodels.graphics.regressionplots import *\n",
    "import matplotlib.pyplot as plt\n",
    "import seaborn as sns\n",
    "import copy\n",
    "from sklearn.cross_validation import train_test_split\n",
    "import math\n",
    "import time"
   ]
  },
  {
   "cell_type": "code",
   "execution_count": 2,
   "metadata": {},
   "outputs": [
    {
     "data": {
      "text/plain": [
       "Index([u'snum', u'dnum', u'api00', u'api99', u'growth', u'meals', u'ell',\n",
       "       u'yr_rnd', u'mobility', u'acs_k3', u'acs_46', u'not_hsg', u'hsg',\n",
       "       u'some_col', u'col_grad', u'grad_sch', u'avg_ed', u'full', u'emer',\n",
       "       u'enroll', u'mealcat', u'collcat'],\n",
       "      dtype='object')"
      ]
     },
     "execution_count": 2,
     "metadata": {},
     "output_type": "execute_result"
    }
   ],
   "source": [
    "elemapi2 = pd.read_csv('/Users/naveenkumar/Dropbox/OnlineWork/elemapi2.csv')\n",
    "elemapi2.columns"
   ]
  },
  {
   "cell_type": "code",
   "execution_count": 3,
   "metadata": {},
   "outputs": [
    {
     "name": "stdout",
     "output_type": "stream",
     "text": [
      "            api00    some_col     yr_rnd     mealcat\n",
      "count  400.000000  400.000000  400.00000  400.000000\n",
      "mean   647.622500   19.712500    0.23000    2.015000\n",
      "std    142.248961   11.336938    0.42136    0.819423\n",
      "min    369.000000    0.000000    0.00000    1.000000\n",
      "25%    523.750000   12.000000    0.00000    1.000000\n",
      "50%    643.000000   19.000000    0.00000    2.000000\n",
      "75%    762.250000   28.000000    0.00000    3.000000\n",
      "max    940.000000   67.000000    1.00000    3.000000\n",
      "\n",
      "\n",
      "3.0    137\n",
      "2.0    132\n",
      "1.0    131\n",
      "Name: mealcat, dtype: int64\n",
      "\n",
      "\n",
      "0.0    308\n",
      "1.0     92\n",
      "Name: yr_rnd, dtype: int64\n"
     ]
    }
   ],
   "source": [
    "elemapi2_sel = elemapi2[[\"api00\", \"some_col\", \"yr_rnd\", \"mealcat\"]]\n",
    "print elemapi2_sel.describe()\n",
    "\n",
    "def cv_desc(df, var):\n",
    "    return df[var].value_counts(dropna = False)\n",
    "\n",
    "print '\\n'  \n",
    "print cv_desc(elemapi2_sel, 'mealcat')\n",
    "print '\\n'  \n",
    "print cv_desc(elemapi2_sel, 'yr_rnd')"
   ]
  },
  {
   "cell_type": "code",
   "execution_count": 4,
   "metadata": {},
   "outputs": [
    {
     "name": "stdout",
     "output_type": "stream",
     "text": [
      "   max value      mean  min value  num of missing       stdev  \\\n",
      "0      940.0  647.6225      369.0               0  142.248961   \n",
      "\n",
      "                title  unique values  \n",
      "0  Codebook for api00            271  \n"
     ]
    }
   ],
   "source": [
    "def codebook(df, var):\n",
    "    title = \"Codebook for \" + str(var)\n",
    "    unique_values = len(df[var].unique())\n",
    "    max_v = df[var].max()\n",
    "    min_v = df[var].min()\n",
    "    n_miss = sum(pd.isnull(df[var]))\n",
    "    mean = df[var].mean()\n",
    "    stdev = df[var].std()\n",
    "    print pd.DataFrame({'title': title, 'unique values': unique_values, 'max value' : max_v, 'min value': min_v, 'num of missing' : n_miss, 'mean' : mean, 'stdev' : stdev}, index = [0])\n",
    "    return\n",
    "\n",
    "codebook(elemapi2_sel, 'api00')"
   ]
  },
  {
   "cell_type": "code",
   "execution_count": 5,
   "metadata": {},
   "outputs": [
    {
     "data": {
      "text/html": [
       "<table class=\"simpletable\">\n",
       "<caption>OLS Regression Results</caption>\n",
       "<tr>\n",
       "  <th>Dep. Variable:</th>          <td>api00</td>      <th>  R-squared:         </th> <td>   0.226</td>\n",
       "</tr>\n",
       "<tr>\n",
       "  <th>Model:</th>                   <td>OLS</td>       <th>  Adj. R-squared:    </th> <td>   0.224</td>\n",
       "</tr>\n",
       "<tr>\n",
       "  <th>Method:</th>             <td>Least Squares</td>  <th>  F-statistic:       </th> <td>   116.2</td>\n",
       "</tr>\n",
       "<tr>\n",
       "  <th>Date:</th>             <td>Sun, 14 Jan 2018</td> <th>  Prob (F-statistic):</th> <td>5.96e-24</td>\n",
       "</tr>\n",
       "<tr>\n",
       "  <th>Time:</th>                 <td>22:39:49</td>     <th>  Log-Likelihood:    </th> <td> -2498.9</td>\n",
       "</tr>\n",
       "<tr>\n",
       "  <th>No. Observations:</th>      <td>   400</td>      <th>  AIC:               </th> <td>   5002.</td>\n",
       "</tr>\n",
       "<tr>\n",
       "  <th>Df Residuals:</th>          <td>   398</td>      <th>  BIC:               </th> <td>   5010.</td>\n",
       "</tr>\n",
       "<tr>\n",
       "  <th>Df Model:</th>              <td>     1</td>      <th>                     </th>     <td> </td>   \n",
       "</tr>\n",
       "<tr>\n",
       "  <th>Covariance Type:</th>      <td>nonrobust</td>    <th>                     </th>     <td> </td>   \n",
       "</tr>\n",
       "</table>\n",
       "<table class=\"simpletable\">\n",
       "<tr>\n",
       "      <td></td>         <th>coef</th>     <th>std err</th>      <th>t</th>      <th>P>|t|</th>  <th>[0.025</th>    <th>0.975]</th>  \n",
       "</tr>\n",
       "<tr>\n",
       "  <th>Intercept</th> <td>  684.5390</td> <td>    7.140</td> <td>   95.878</td> <td> 0.000</td> <td>  670.503</td> <td>  698.575</td>\n",
       "</tr>\n",
       "<tr>\n",
       "  <th>yr_rnd</th>    <td> -160.5064</td> <td>   14.887</td> <td>  -10.782</td> <td> 0.000</td> <td> -189.774</td> <td> -131.239</td>\n",
       "</tr>\n",
       "</table>\n",
       "<table class=\"simpletable\">\n",
       "<tr>\n",
       "  <th>Omnibus:</th>       <td>45.748</td> <th>  Durbin-Watson:     </th> <td>   1.499</td>\n",
       "</tr>\n",
       "<tr>\n",
       "  <th>Prob(Omnibus):</th> <td> 0.000</td> <th>  Jarque-Bera (JB):  </th> <td>  13.162</td>\n",
       "</tr>\n",
       "<tr>\n",
       "  <th>Skew:</th>          <td> 0.006</td> <th>  Prob(JB):          </th> <td> 0.00139</td>\n",
       "</tr>\n",
       "<tr>\n",
       "  <th>Kurtosis:</th>      <td> 2.111</td> <th>  Cond. No.          </th> <td>    2.53</td>\n",
       "</tr>\n",
       "</table>"
      ],
      "text/plain": [
       "<class 'statsmodels.iolib.summary.Summary'>\n",
       "\"\"\"\n",
       "                            OLS Regression Results                            \n",
       "==============================================================================\n",
       "Dep. Variable:                  api00   R-squared:                       0.226\n",
       "Model:                            OLS   Adj. R-squared:                  0.224\n",
       "Method:                 Least Squares   F-statistic:                     116.2\n",
       "Date:                Sun, 14 Jan 2018   Prob (F-statistic):           5.96e-24\n",
       "Time:                        22:39:49   Log-Likelihood:                -2498.9\n",
       "No. Observations:                 400   AIC:                             5002.\n",
       "Df Residuals:                     398   BIC:                             5010.\n",
       "Df Model:                           1                                         \n",
       "Covariance Type:            nonrobust                                         \n",
       "==============================================================================\n",
       "                 coef    std err          t      P>|t|      [0.025      0.975]\n",
       "------------------------------------------------------------------------------\n",
       "Intercept    684.5390      7.140     95.878      0.000     670.503     698.575\n",
       "yr_rnd      -160.5064     14.887    -10.782      0.000    -189.774    -131.239\n",
       "==============================================================================\n",
       "Omnibus:                       45.748   Durbin-Watson:                   1.499\n",
       "Prob(Omnibus):                  0.000   Jarque-Bera (JB):               13.162\n",
       "Skew:                           0.006   Prob(JB):                      0.00139\n",
       "Kurtosis:                       2.111   Cond. No.                         2.53\n",
       "==============================================================================\n",
       "\n",
       "Warnings:\n",
       "[1] Standard Errors assume that the covariance matrix of the errors is correctly specified.\n",
       "\"\"\""
      ]
     },
     "execution_count": 5,
     "metadata": {},
     "output_type": "execute_result"
    }
   ],
   "source": [
    "reg = smf.ols(formula = \"api00 ~ yr_rnd\", data = elemapi2_sel).fit()\n",
    "reg.summary()"
   ]
  },
  {
   "cell_type": "code",
   "execution_count": 6,
   "metadata": {},
   "outputs": [
    {
     "name": "stderr",
     "output_type": "stream",
     "text": [
      "/Users/naveenkumar/anaconda/lib/python2.7/site-packages/ipykernel_launcher.py:2: SettingWithCopyWarning: \n",
      "A value is trying to be set on a copy of a slice from a DataFrame.\n",
      "Try using .loc[row_indexer,col_indexer] = value instead\n",
      "\n",
      "See the caveats in the documentation: http://pandas.pydata.org/pandas-docs/stable/indexing.html#indexing-view-versus-copy\n",
      "  \n"
     ]
    },
    {
     "data": {
      "text/plain": [
       "No     308\n",
       "Yes     92\n",
       "Name: yr_rnd_c, dtype: int64"
      ]
     },
     "execution_count": 6,
     "metadata": {},
     "output_type": "execute_result"
    }
   ],
   "source": [
    "elemapi2_sel['yr_rnd'].value_counts()\n",
    "elemapi2_sel['yr_rnd_c'] = elemapi2_sel['yr_rnd'].map({0: \"No\", 1: \"Yes\"})\n",
    "elemapi2_sel['yr_rnd_c'].value_counts()"
   ]
  },
  {
   "cell_type": "code",
   "execution_count": 7,
   "metadata": {},
   "outputs": [
    {
     "name": "stderr",
     "output_type": "stream",
     "text": [
      "/Users/naveenkumar/anaconda/lib/python2.7/site-packages/ipykernel_launcher.py:1: SettingWithCopyWarning: \n",
      "A value is trying to be set on a copy of a slice from a DataFrame.\n",
      "Try using .loc[row_indexer,col_indexer] = value instead\n",
      "\n",
      "See the caveats in the documentation: http://pandas.pydata.org/pandas-docs/stable/indexing.html#indexing-view-versus-copy\n",
      "  \"\"\"Entry point for launching an IPython kernel.\n",
      "/Users/naveenkumar/anaconda/lib/python2.7/site-packages/ipykernel_launcher.py:2: SettingWithCopyWarning: \n",
      "A value is trying to be set on a copy of a slice from a DataFrame.\n",
      "Try using .loc[row_indexer,col_indexer] = value instead\n",
      "\n",
      "See the caveats in the documentation: http://pandas.pydata.org/pandas-docs/stable/indexing.html#indexing-view-versus-copy\n",
      "  \n"
     ]
    },
    {
     "name": "stdout",
     "output_type": "stream",
     "text": [
      "                mean         std\n",
      "yr_rnd_c                        \n",
      "No        684.538961  132.112534\n",
      "Yes       524.032609   98.916043\n",
      "                   <lambda>        mean        std\n",
      "mealcat_c                                         \n",
      "0-46% free meals      131.0  805.717557  65.668664\n",
      "1-100% free meals     137.0  504.379562  62.727015\n",
      "47-80% free meals     132.0  639.393939  82.135130\n"
     ]
    }
   ],
   "source": [
    "elemapi2_sel['yr_rnd_c'] = elemapi2_sel['yr_rnd'].map({0: \"No\", 1: \"Yes\"})\n",
    "elemapi2_sel['mealcat_c'] = elemapi2_sel['mealcat'].map({1: \"0-46% free meals\", 2: \"47-80% free meals\", 3: \"1-100% free meals\"})\n",
    "\n",
    "elemapi2_sel_group = elemapi2_sel.groupby('yr_rnd_c')\n",
    "print(elemapi2_sel_group['api00'].agg([np.mean, np.std]))\n",
    "\n",
    "\n",
    "elemapi2_sel_group = elemapi2_sel.groupby('mealcat_c')\n",
    "print(elemapi2_sel_group['api00'].agg([lambda x: x.shape[0], np.mean, np.std]))"
   ]
  },
  {
   "cell_type": "code",
   "execution_count": 8,
   "metadata": {},
   "outputs": [
    {
     "data": {
      "text/html": [
       "<table class=\"simpletable\">\n",
       "<caption>OLS Regression Results</caption>\n",
       "<tr>\n",
       "  <th>Dep. Variable:</th>          <td>api00</td>      <th>  R-squared:         </th> <td>   0.755</td> \n",
       "</tr>\n",
       "<tr>\n",
       "  <th>Model:</th>                   <td>OLS</td>       <th>  Adj. R-squared:    </th> <td>   0.754</td> \n",
       "</tr>\n",
       "<tr>\n",
       "  <th>Method:</th>             <td>Least Squares</td>  <th>  F-statistic:       </th> <td>   611.1</td> \n",
       "</tr>\n",
       "<tr>\n",
       "  <th>Date:</th>             <td>Sun, 14 Jan 2018</td> <th>  Prob (F-statistic):</th> <td>6.48e-122</td>\n",
       "</tr>\n",
       "<tr>\n",
       "  <th>Time:</th>                 <td>22:39:49</td>     <th>  Log-Likelihood:    </th> <td> -2269.0</td> \n",
       "</tr>\n",
       "<tr>\n",
       "  <th>No. Observations:</th>      <td>   400</td>      <th>  AIC:               </th> <td>   4544.</td> \n",
       "</tr>\n",
       "<tr>\n",
       "  <th>Df Residuals:</th>          <td>   397</td>      <th>  BIC:               </th> <td>   4556.</td> \n",
       "</tr>\n",
       "<tr>\n",
       "  <th>Df Model:</th>              <td>     2</td>      <th>                     </th>     <td> </td>    \n",
       "</tr>\n",
       "<tr>\n",
       "  <th>Covariance Type:</th>      <td>nonrobust</td>    <th>                     </th>     <td> </td>    \n",
       "</tr>\n",
       "</table>\n",
       "<table class=\"simpletable\">\n",
       "<tr>\n",
       "                 <td></td>                   <th>coef</th>     <th>std err</th>      <th>t</th>      <th>P>|t|</th>  <th>[0.025</th>    <th>0.975]</th>  \n",
       "</tr>\n",
       "<tr>\n",
       "  <th>Intercept</th>                      <td>  805.7176</td> <td>    6.169</td> <td>  130.599</td> <td> 0.000</td> <td>  793.589</td> <td>  817.846</td>\n",
       "</tr>\n",
       "<tr>\n",
       "  <th>mealcat_c[T.1-100% free meals]</th> <td> -301.3380</td> <td>    8.629</td> <td>  -34.922</td> <td> 0.000</td> <td> -318.302</td> <td> -284.374</td>\n",
       "</tr>\n",
       "<tr>\n",
       "  <th>mealcat_c[T.47-80% free meals]</th> <td> -166.3236</td> <td>    8.708</td> <td>  -19.099</td> <td> 0.000</td> <td> -183.444</td> <td> -149.203</td>\n",
       "</tr>\n",
       "</table>\n",
       "<table class=\"simpletable\">\n",
       "<tr>\n",
       "  <th>Omnibus:</th>       <td> 1.593</td> <th>  Durbin-Watson:     </th> <td>   1.541</td>\n",
       "</tr>\n",
       "<tr>\n",
       "  <th>Prob(Omnibus):</th> <td> 0.451</td> <th>  Jarque-Bera (JB):  </th> <td>   1.684</td>\n",
       "</tr>\n",
       "<tr>\n",
       "  <th>Skew:</th>          <td>-0.139</td> <th>  Prob(JB):          </th> <td>   0.431</td>\n",
       "</tr>\n",
       "<tr>\n",
       "  <th>Kurtosis:</th>      <td> 2.847</td> <th>  Cond. No.          </th> <td>    3.76</td>\n",
       "</tr>\n",
       "</table>"
      ],
      "text/plain": [
       "<class 'statsmodels.iolib.summary.Summary'>\n",
       "\"\"\"\n",
       "                            OLS Regression Results                            \n",
       "==============================================================================\n",
       "Dep. Variable:                  api00   R-squared:                       0.755\n",
       "Model:                            OLS   Adj. R-squared:                  0.754\n",
       "Method:                 Least Squares   F-statistic:                     611.1\n",
       "Date:                Sun, 14 Jan 2018   Prob (F-statistic):          6.48e-122\n",
       "Time:                        22:39:49   Log-Likelihood:                -2269.0\n",
       "No. Observations:                 400   AIC:                             4544.\n",
       "Df Residuals:                     397   BIC:                             4556.\n",
       "Df Model:                           2                                         \n",
       "Covariance Type:            nonrobust                                         \n",
       "==================================================================================================\n",
       "                                     coef    std err          t      P>|t|      [0.025      0.975]\n",
       "--------------------------------------------------------------------------------------------------\n",
       "Intercept                        805.7176      6.169    130.599      0.000     793.589     817.846\n",
       "mealcat_c[T.1-100% free meals]  -301.3380      8.629    -34.922      0.000    -318.302    -284.374\n",
       "mealcat_c[T.47-80% free meals]  -166.3236      8.708    -19.099      0.000    -183.444    -149.203\n",
       "==============================================================================\n",
       "Omnibus:                        1.593   Durbin-Watson:                   1.541\n",
       "Prob(Omnibus):                  0.451   Jarque-Bera (JB):                1.684\n",
       "Skew:                          -0.139   Prob(JB):                        0.431\n",
       "Kurtosis:                       2.847   Cond. No.                         3.76\n",
       "==============================================================================\n",
       "\n",
       "Warnings:\n",
       "[1] Standard Errors assume that the covariance matrix of the errors is correctly specified.\n",
       "\"\"\""
      ]
     },
     "execution_count": 8,
     "metadata": {},
     "output_type": "execute_result"
    }
   ],
   "source": [
    "lm = smf.ols('api00 ~ mealcat_c', data = elemapi2_sel).fit()\n",
    "lm.summary()"
   ]
  },
  {
   "cell_type": "code",
   "execution_count": 9,
   "metadata": {},
   "outputs": [
    {
     "name": "stderr",
     "output_type": "stream",
     "text": [
      "/Users/naveenkumar/anaconda/lib/python2.7/site-packages/ipykernel_launcher.py:3: SettingWithCopyWarning: \n",
      "A value is trying to be set on a copy of a slice from a DataFrame.\n",
      "Try using .loc[row_indexer,col_indexer] = value instead\n",
      "\n",
      "See the caveats in the documentation: http://pandas.pydata.org/pandas-docs/stable/indexing.html#indexing-view-versus-copy\n",
      "  This is separate from the ipykernel package so we can avoid doing imports until\n"
     ]
    },
    {
     "data": {
      "text/plain": [
       "mealcat_dummy\n",
       "0    131\n",
       "1    132\n",
       "2    137\n",
       "dtype: int64"
      ]
     },
     "execution_count": 9,
     "metadata": {},
     "output_type": "execute_result"
    }
   ],
   "source": [
    "from sklearn import preprocessing\n",
    "le_mealcat = preprocessing.LabelEncoder()\n",
    "elemapi2_sel['mealcat_dummy'] = le_mealcat.fit_transform(elemapi2_sel.mealcat)\n",
    "elemapi2_sel.groupby('mealcat_dummy').size()"
   ]
  },
  {
   "cell_type": "code",
   "execution_count": 11,
   "metadata": {},
   "outputs": [
    {
     "name": "stderr",
     "output_type": "stream",
     "text": [
      "/Users/naveenkumar/anaconda/lib/python2.7/site-packages/ipykernel_launcher.py:2: FutureWarning: reshape is deprecated and will raise in a subsequent release. Please use .values.reshape(...) instead\n",
      "  \n"
     ]
    },
    {
     "data": {
      "text/html": [
       "<div>\n",
       "<style scoped>\n",
       "    .dataframe tbody tr th:only-of-type {\n",
       "        vertical-align: middle;\n",
       "    }\n",
       "\n",
       "    .dataframe tbody tr th {\n",
       "        vertical-align: top;\n",
       "    }\n",
       "\n",
       "    .dataframe thead th {\n",
       "        text-align: right;\n",
       "    }\n",
       "</style>\n",
       "<table border=\"1\" class=\"dataframe\">\n",
       "  <thead>\n",
       "    <tr style=\"text-align: right;\">\n",
       "      <th></th>\n",
       "      <th>api00</th>\n",
       "      <th>some_col</th>\n",
       "      <th>yr_rnd</th>\n",
       "      <th>mealcat</th>\n",
       "      <th>yr_rnd_c</th>\n",
       "      <th>mealcat_c</th>\n",
       "      <th>mealcat_dummy</th>\n",
       "      <th>mealcat1</th>\n",
       "      <th>mealcat2</th>\n",
       "      <th>mealcat3</th>\n",
       "    </tr>\n",
       "  </thead>\n",
       "  <tbody>\n",
       "    <tr>\n",
       "      <th>0</th>\n",
       "      <td>693.0</td>\n",
       "      <td>0.0</td>\n",
       "      <td>0.0</td>\n",
       "      <td>2.0</td>\n",
       "      <td>No</td>\n",
       "      <td>47-80% free meals</td>\n",
       "      <td>1</td>\n",
       "      <td>0.0</td>\n",
       "      <td>1.0</td>\n",
       "      <td>0.0</td>\n",
       "    </tr>\n",
       "    <tr>\n",
       "      <th>1</th>\n",
       "      <td>570.0</td>\n",
       "      <td>0.0</td>\n",
       "      <td>0.0</td>\n",
       "      <td>3.0</td>\n",
       "      <td>No</td>\n",
       "      <td>1-100% free meals</td>\n",
       "      <td>2</td>\n",
       "      <td>0.0</td>\n",
       "      <td>0.0</td>\n",
       "      <td>1.0</td>\n",
       "    </tr>\n",
       "    <tr>\n",
       "      <th>2</th>\n",
       "      <td>546.0</td>\n",
       "      <td>0.0</td>\n",
       "      <td>0.0</td>\n",
       "      <td>3.0</td>\n",
       "      <td>No</td>\n",
       "      <td>1-100% free meals</td>\n",
       "      <td>2</td>\n",
       "      <td>0.0</td>\n",
       "      <td>0.0</td>\n",
       "      <td>1.0</td>\n",
       "    </tr>\n",
       "    <tr>\n",
       "      <th>3</th>\n",
       "      <td>571.0</td>\n",
       "      <td>9.0</td>\n",
       "      <td>0.0</td>\n",
       "      <td>3.0</td>\n",
       "      <td>No</td>\n",
       "      <td>1-100% free meals</td>\n",
       "      <td>2</td>\n",
       "      <td>0.0</td>\n",
       "      <td>0.0</td>\n",
       "      <td>1.0</td>\n",
       "    </tr>\n",
       "    <tr>\n",
       "      <th>4</th>\n",
       "      <td>478.0</td>\n",
       "      <td>0.0</td>\n",
       "      <td>0.0</td>\n",
       "      <td>3.0</td>\n",
       "      <td>No</td>\n",
       "      <td>1-100% free meals</td>\n",
       "      <td>2</td>\n",
       "      <td>0.0</td>\n",
       "      <td>0.0</td>\n",
       "      <td>1.0</td>\n",
       "    </tr>\n",
       "  </tbody>\n",
       "</table>\n",
       "</div>"
      ],
      "text/plain": [
       "   api00  some_col  yr_rnd  mealcat yr_rnd_c          mealcat_c  \\\n",
       "0  693.0       0.0     0.0      2.0       No  47-80% free meals   \n",
       "1  570.0       0.0     0.0      3.0       No  1-100% free meals   \n",
       "2  546.0       0.0     0.0      3.0       No  1-100% free meals   \n",
       "3  571.0       9.0     0.0      3.0       No  1-100% free meals   \n",
       "4  478.0       0.0     0.0      3.0       No  1-100% free meals   \n",
       "\n",
       "   mealcat_dummy  mealcat1  mealcat2  mealcat3  \n",
       "0              1       0.0       1.0       0.0  \n",
       "1              2       0.0       0.0       1.0  \n",
       "2              2       0.0       0.0       1.0  \n",
       "3              2       0.0       0.0       1.0  \n",
       "4              2       0.0       0.0       1.0  "
      ]
     },
     "execution_count": 11,
     "metadata": {},
     "output_type": "execute_result"
    }
   ],
   "source": [
    "ohe = preprocessing.OneHotEncoder()\n",
    "dummy = pd.DataFrame(ohe.fit_transform(elemapi2_sel['mealcat'].reshape(-1,1)).toarray() , columns = [\"mealcat1\", \"mealcat2\", \"mealcat3\"])\n",
    "elemapi2_sel = pd.concat([elemapi2_sel, dummy], axis = 1)\n",
    "elemapi2_sel.head()"
   ]
  },
  {
   "cell_type": "code",
   "execution_count": 12,
   "metadata": {},
   "outputs": [
    {
     "data": {
      "text/html": [
       "<table class=\"simpletable\">\n",
       "<caption>OLS Regression Results</caption>\n",
       "<tr>\n",
       "  <th>Dep. Variable:</th>          <td>api00</td>      <th>  R-squared:         </th> <td>   0.755</td> \n",
       "</tr>\n",
       "<tr>\n",
       "  <th>Model:</th>                   <td>OLS</td>       <th>  Adj. R-squared:    </th> <td>   0.754</td> \n",
       "</tr>\n",
       "<tr>\n",
       "  <th>Method:</th>             <td>Least Squares</td>  <th>  F-statistic:       </th> <td>   611.1</td> \n",
       "</tr>\n",
       "<tr>\n",
       "  <th>Date:</th>             <td>Sun, 14 Jan 2018</td> <th>  Prob (F-statistic):</th> <td>6.48e-122</td>\n",
       "</tr>\n",
       "<tr>\n",
       "  <th>Time:</th>                 <td>22:41:31</td>     <th>  Log-Likelihood:    </th> <td> -2269.0</td> \n",
       "</tr>\n",
       "<tr>\n",
       "  <th>No. Observations:</th>      <td>   400</td>      <th>  AIC:               </th> <td>   4544.</td> \n",
       "</tr>\n",
       "<tr>\n",
       "  <th>Df Residuals:</th>          <td>   397</td>      <th>  BIC:               </th> <td>   4556.</td> \n",
       "</tr>\n",
       "<tr>\n",
       "  <th>Df Model:</th>              <td>     2</td>      <th>                     </th>     <td> </td>    \n",
       "</tr>\n",
       "<tr>\n",
       "  <th>Covariance Type:</th>      <td>nonrobust</td>    <th>                     </th>     <td> </td>    \n",
       "</tr>\n",
       "</table>\n",
       "<table class=\"simpletable\">\n",
       "<tr>\n",
       "      <td></td>         <th>coef</th>     <th>std err</th>      <th>t</th>      <th>P>|t|</th>  <th>[0.025</th>    <th>0.975]</th>  \n",
       "</tr>\n",
       "<tr>\n",
       "  <th>Intercept</th> <td>  805.7176</td> <td>    6.169</td> <td>  130.599</td> <td> 0.000</td> <td>  793.589</td> <td>  817.846</td>\n",
       "</tr>\n",
       "<tr>\n",
       "  <th>mealcat2</th>  <td> -166.3236</td> <td>    8.708</td> <td>  -19.099</td> <td> 0.000</td> <td> -183.444</td> <td> -149.203</td>\n",
       "</tr>\n",
       "<tr>\n",
       "  <th>mealcat3</th>  <td> -301.3380</td> <td>    8.629</td> <td>  -34.922</td> <td> 0.000</td> <td> -318.302</td> <td> -284.374</td>\n",
       "</tr>\n",
       "</table>\n",
       "<table class=\"simpletable\">\n",
       "<tr>\n",
       "  <th>Omnibus:</th>       <td> 1.593</td> <th>  Durbin-Watson:     </th> <td>   1.541</td>\n",
       "</tr>\n",
       "<tr>\n",
       "  <th>Prob(Omnibus):</th> <td> 0.451</td> <th>  Jarque-Bera (JB):  </th> <td>   1.684</td>\n",
       "</tr>\n",
       "<tr>\n",
       "  <th>Skew:</th>          <td>-0.139</td> <th>  Prob(JB):          </th> <td>   0.431</td>\n",
       "</tr>\n",
       "<tr>\n",
       "  <th>Kurtosis:</th>      <td> 2.847</td> <th>  Cond. No.          </th> <td>    3.76</td>\n",
       "</tr>\n",
       "</table>"
      ],
      "text/plain": [
       "<class 'statsmodels.iolib.summary.Summary'>\n",
       "\"\"\"\n",
       "                            OLS Regression Results                            \n",
       "==============================================================================\n",
       "Dep. Variable:                  api00   R-squared:                       0.755\n",
       "Model:                            OLS   Adj. R-squared:                  0.754\n",
       "Method:                 Least Squares   F-statistic:                     611.1\n",
       "Date:                Sun, 14 Jan 2018   Prob (F-statistic):          6.48e-122\n",
       "Time:                        22:41:31   Log-Likelihood:                -2269.0\n",
       "No. Observations:                 400   AIC:                             4544.\n",
       "Df Residuals:                     397   BIC:                             4556.\n",
       "Df Model:                           2                                         \n",
       "Covariance Type:            nonrobust                                         \n",
       "==============================================================================\n",
       "                 coef    std err          t      P>|t|      [0.025      0.975]\n",
       "------------------------------------------------------------------------------\n",
       "Intercept    805.7176      6.169    130.599      0.000     793.589     817.846\n",
       "mealcat2    -166.3236      8.708    -19.099      0.000    -183.444    -149.203\n",
       "mealcat3    -301.3380      8.629    -34.922      0.000    -318.302    -284.374\n",
       "==============================================================================\n",
       "Omnibus:                        1.593   Durbin-Watson:                   1.541\n",
       "Prob(Omnibus):                  0.451   Jarque-Bera (JB):                1.684\n",
       "Skew:                          -0.139   Prob(JB):                        0.431\n",
       "Kurtosis:                       2.847   Cond. No.                         3.76\n",
       "==============================================================================\n",
       "\n",
       "Warnings:\n",
       "[1] Standard Errors assume that the covariance matrix of the errors is correctly specified.\n",
       "\"\"\""
      ]
     },
     "execution_count": 12,
     "metadata": {},
     "output_type": "execute_result"
    }
   ],
   "source": [
    "lm = smf.ols('api00 ~ mealcat2 + mealcat3', data = elemapi2_sel).fit()\n",
    "lm.summary()"
   ]
  },
  {
   "cell_type": "code",
   "execution_count": 13,
   "metadata": {},
   "outputs": [
    {
     "data": {
      "text/html": [
       "<table class=\"simpletable\">\n",
       "<caption>OLS Regression Results</caption>\n",
       "<tr>\n",
       "  <th>Dep. Variable:</th>          <td>api00</td>      <th>  R-squared:         </th> <td>   0.755</td> \n",
       "</tr>\n",
       "<tr>\n",
       "  <th>Model:</th>                   <td>OLS</td>       <th>  Adj. R-squared:    </th> <td>   0.754</td> \n",
       "</tr>\n",
       "<tr>\n",
       "  <th>Method:</th>             <td>Least Squares</td>  <th>  F-statistic:       </th> <td>   611.1</td> \n",
       "</tr>\n",
       "<tr>\n",
       "  <th>Date:</th>             <td>Sun, 14 Jan 2018</td> <th>  Prob (F-statistic):</th> <td>6.48e-122</td>\n",
       "</tr>\n",
       "<tr>\n",
       "  <th>Time:</th>                 <td>22:46:05</td>     <th>  Log-Likelihood:    </th> <td> -2269.0</td> \n",
       "</tr>\n",
       "<tr>\n",
       "  <th>No. Observations:</th>      <td>   400</td>      <th>  AIC:               </th> <td>   4544.</td> \n",
       "</tr>\n",
       "<tr>\n",
       "  <th>Df Residuals:</th>          <td>   397</td>      <th>  BIC:               </th> <td>   4556.</td> \n",
       "</tr>\n",
       "<tr>\n",
       "  <th>Df Model:</th>              <td>     2</td>      <th>                     </th>     <td> </td>    \n",
       "</tr>\n",
       "<tr>\n",
       "  <th>Covariance Type:</th>      <td>nonrobust</td>    <th>                     </th>     <td> </td>    \n",
       "</tr>\n",
       "</table>\n",
       "<table class=\"simpletable\">\n",
       "<tr>\n",
       "          <td></td>             <th>coef</th>     <th>std err</th>      <th>t</th>      <th>P>|t|</th>  <th>[0.025</th>    <th>0.975]</th>  \n",
       "</tr>\n",
       "<tr>\n",
       "  <th>Intercept</th>         <td>  805.7176</td> <td>    6.169</td> <td>  130.599</td> <td> 0.000</td> <td>  793.589</td> <td>  817.846</td>\n",
       "</tr>\n",
       "<tr>\n",
       "  <th>C(mealcat)[T.2.0]</th> <td> -166.3236</td> <td>    8.708</td> <td>  -19.099</td> <td> 0.000</td> <td> -183.444</td> <td> -149.203</td>\n",
       "</tr>\n",
       "<tr>\n",
       "  <th>C(mealcat)[T.3.0]</th> <td> -301.3380</td> <td>    8.629</td> <td>  -34.922</td> <td> 0.000</td> <td> -318.302</td> <td> -284.374</td>\n",
       "</tr>\n",
       "</table>\n",
       "<table class=\"simpletable\">\n",
       "<tr>\n",
       "  <th>Omnibus:</th>       <td> 1.593</td> <th>  Durbin-Watson:     </th> <td>   1.541</td>\n",
       "</tr>\n",
       "<tr>\n",
       "  <th>Prob(Omnibus):</th> <td> 0.451</td> <th>  Jarque-Bera (JB):  </th> <td>   1.684</td>\n",
       "</tr>\n",
       "<tr>\n",
       "  <th>Skew:</th>          <td>-0.139</td> <th>  Prob(JB):          </th> <td>   0.431</td>\n",
       "</tr>\n",
       "<tr>\n",
       "  <th>Kurtosis:</th>      <td> 2.847</td> <th>  Cond. No.          </th> <td>    3.76</td>\n",
       "</tr>\n",
       "</table>"
      ],
      "text/plain": [
       "<class 'statsmodels.iolib.summary.Summary'>\n",
       "\"\"\"\n",
       "                            OLS Regression Results                            \n",
       "==============================================================================\n",
       "Dep. Variable:                  api00   R-squared:                       0.755\n",
       "Model:                            OLS   Adj. R-squared:                  0.754\n",
       "Method:                 Least Squares   F-statistic:                     611.1\n",
       "Date:                Sun, 14 Jan 2018   Prob (F-statistic):          6.48e-122\n",
       "Time:                        22:46:05   Log-Likelihood:                -2269.0\n",
       "No. Observations:                 400   AIC:                             4544.\n",
       "Df Residuals:                     397   BIC:                             4556.\n",
       "Df Model:                           2                                         \n",
       "Covariance Type:            nonrobust                                         \n",
       "=====================================================================================\n",
       "                        coef    std err          t      P>|t|      [0.025      0.975]\n",
       "-------------------------------------------------------------------------------------\n",
       "Intercept           805.7176      6.169    130.599      0.000     793.589     817.846\n",
       "C(mealcat)[T.2.0]  -166.3236      8.708    -19.099      0.000    -183.444    -149.203\n",
       "C(mealcat)[T.3.0]  -301.3380      8.629    -34.922      0.000    -318.302    -284.374\n",
       "==============================================================================\n",
       "Omnibus:                        1.593   Durbin-Watson:                   1.541\n",
       "Prob(Omnibus):                  0.451   Jarque-Bera (JB):                1.684\n",
       "Skew:                          -0.139   Prob(JB):                        0.431\n",
       "Kurtosis:                       2.847   Cond. No.                         3.76\n",
       "==============================================================================\n",
       "\n",
       "Warnings:\n",
       "[1] Standard Errors assume that the covariance matrix of the errors is correctly specified.\n",
       "\"\"\""
      ]
     },
     "execution_count": 13,
     "metadata": {},
     "output_type": "execute_result"
    }
   ],
   "source": [
    "lm = lm = smf.ols('api00 ~ C(mealcat)', data = elemapi2_sel).fit()\n",
    "lm.summary()"
   ]
  },
  {
   "cell_type": "code",
   "execution_count": 14,
   "metadata": {},
   "outputs": [
    {
     "name": "stderr",
     "output_type": "stream",
     "text": [
      "/Users/naveenkumar/anaconda/lib/python2.7/site-packages/ipykernel_launcher.py:1: DeprecationWarning: \n",
      ".ix is deprecated. Please use\n",
      ".loc for label based indexing or\n",
      ".iloc for positional indexing\n",
      "\n",
      "See the documentation here:\n",
      "http://pandas.pydata.org/pandas-docs/stable/indexing.html#ix-indexer-is-deprecated\n",
      "  \"\"\"Entry point for launching an IPython kernel.\n",
      "/Users/naveenkumar/anaconda/lib/python2.7/site-packages/ipykernel_launcher.py:4: FutureWarning: reshape is deprecated and will raise in a subsequent release. Please use .values.reshape(...) instead\n",
      "  after removing the cwd from sys.path.\n",
      "/Users/naveenkumar/anaconda/lib/python2.7/site-packages/ipykernel_launcher.py:5: FutureWarning: reshape is deprecated and will raise in a subsequent release. Please use .values.reshape(...) instead\n",
      "  \"\"\"\n"
     ]
    },
    {
     "data": {
      "text/plain": [
       "yr_rnd  mealcat  mealxynd1  mealxynd2  mealxynd3\n",
       "0.0     1.0      0.0        0.0        0.0          124\n",
       "        2.0      0.0        0.0        0.0          117\n",
       "        3.0      0.0        0.0        0.0           67\n",
       "1.0     1.0      1.0        0.0        0.0            7\n",
       "        2.0      0.0        1.0        0.0           15\n",
       "        3.0      0.0        0.0        1.0           70\n",
       "dtype: int64"
      ]
     },
     "execution_count": 14,
     "metadata": {},
     "output_type": "execute_result"
    }
   ],
   "source": [
    "elemapi2_sel = elemapi2.ix[:, [\"api00\", \"some_col\", \"yr_rnd\", \"mealcat\"]]\n",
    "\n",
    "ohe = preprocessing.OneHotEncoder()\n",
    "dummy = pd.DataFrame(ohe.fit_transform(elemapi2_sel.mealcat.reshape(-1,1)).toarray(), columns = [\"mealcat1\", \"mealcat2\", \"mealcat3\"])\n",
    "mealxynd = np.multiply(dummy, elemapi2.yr_rnd.reshape(-1, 1))\n",
    "mealxynd.columns = [\"mealxynd1\", \"mealxynd2\", \"mealxynd3\"]\n",
    "elemapi2_sel = pd.concat([elemapi2_sel, dummy, mealxynd], axis = 1)\n",
    "\n",
    "elemapi2_sel.groupby([\"yr_rnd\", \"mealcat\", \"mealxynd1\", \"mealxynd2\", \"mealxynd3\"]).size()"
   ]
  },
  {
   "cell_type": "code",
   "execution_count": null,
   "metadata": {
    "collapsed": true
   },
   "outputs": [],
   "source": []
  },
  {
   "cell_type": "code",
   "execution_count": null,
   "metadata": {
    "collapsed": true
   },
   "outputs": [],
   "source": []
  }
 ],
 "metadata": {
  "kernelspec": {
   "display_name": "Python 2",
   "language": "python",
   "name": "python2"
  },
  "language_info": {
   "codemirror_mode": {
    "name": "ipython",
    "version": 2
   },
   "file_extension": ".py",
   "mimetype": "text/x-python",
   "name": "python",
   "nbconvert_exporter": "python",
   "pygments_lexer": "ipython2",
   "version": "2.7.14"
  }
 },
 "nbformat": 4,
 "nbformat_minor": 2
}
