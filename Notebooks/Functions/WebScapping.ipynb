{
 "cells": [
  {
   "cell_type": "markdown",
   "metadata": {},
   "source": [
    "Data Analytics with Python by Web scraping: Illustration with CIA World Factbook"
   ]
  },
  {
   "cell_type": "code",
   "execution_count": 22,
   "metadata": {},
   "outputs": [],
   "source": [
    "import pandas as pd\n",
    "import numpy as np\n",
    "import matplotlib.pyplot as plt\n",
    "import re\n",
    "#import urllib.request, urllib.parse, urllib.error\n",
    "from bs4 import BeautifulSoup\n",
    "import ssl\n"
   ]
  },
  {
   "cell_type": "code",
   "execution_count": 23,
   "metadata": {},
   "outputs": [
    {
     "ename": "SyntaxError",
     "evalue": "invalid syntax (<ipython-input-23-8549b34d3838>, line 11)",
     "output_type": "error",
     "traceback": [
      "\u001b[0;36m  File \u001b[0;32m\"<ipython-input-23-8549b34d3838>\"\u001b[0;36m, line \u001b[0;32m11\u001b[0m\n\u001b[0;31m    print(f\"Reading done. Total {len(html)} characters read.\")\u001b[0m\n\u001b[0m                                                            ^\u001b[0m\n\u001b[0;31mSyntaxError\u001b[0m\u001b[0;31m:\u001b[0m invalid syntax\n"
     ]
    }
   ],
   "source": [
    "tx = ssl.create_default_context()\n",
    "ctx.check_hostname = False\n",
    "ctx.verify_mode = ssl.CERT_NONE\n",
    "\n",
    "# Read the HTML from the URL and pass on to BeautifulSoup\n",
    "url = 'https://www.cia.gov/library/publications/the-world-factbook/'\n",
    "print(\"Opening the file connection...\")\n",
    "uh= urllib.request.urlopen(url, context=ctx)\n",
    "print(\"HTTP status\",uh.getcode())\n",
    "html =uh.read().decode()\n",
    "print(f\"Reading done. Total {len(html)} characters read.\")"
   ]
  },
  {
   "cell_type": "code",
   "execution_count": 24,
   "metadata": {},
   "outputs": [
    {
     "name": "stdout",
     "output_type": "stream",
     "text": [
      "Opening the file connection...\n"
     ]
    }
   ],
   "source": [
    "ctx = ssl.create_default_context()\n",
    "ctx.check_hostname = False\n",
    "ctx.verify_mode = ssl.CERT_NONE\n",
    "url = 'https://www.cia.gov/library/publications/the-world-factbook/'\n",
    "print(\"Opening the file connection...\")"
   ]
  },
  {
   "cell_type": "code",
   "execution_count": 25,
   "metadata": {},
   "outputs": [],
   "source": [
    "\n",
    "from urllib2 import urlopen\n",
    "uh= urlopen(url, context=ctx)\n"
   ]
  },
  {
   "cell_type": "code",
   "execution_count": 26,
   "metadata": {},
   "outputs": [
    {
     "name": "stdout",
     "output_type": "stream",
     "text": [
      "('HTTP status', 200)\n"
     ]
    },
    {
     "ename": "UnicodeDecodeError",
     "evalue": "'ascii' codec can't decode byte 0xe2 in position 694: ordinal not in range(128)",
     "output_type": "error",
     "traceback": [
      "\u001b[0;31m---------------------------------------------------------------------------\u001b[0m",
      "\u001b[0;31mUnicodeDecodeError\u001b[0m                        Traceback (most recent call last)",
      "\u001b[0;32m<ipython-input-26-63bb2e467339>\u001b[0m in \u001b[0;36m<module>\u001b[0;34m()\u001b[0m\n\u001b[1;32m      1\u001b[0m \u001b[0;32mprint\u001b[0m\u001b[0;34m(\u001b[0m\u001b[0;34m\"HTTP status\"\u001b[0m\u001b[0;34m,\u001b[0m\u001b[0muh\u001b[0m\u001b[0;34m.\u001b[0m\u001b[0mgetcode\u001b[0m\u001b[0;34m(\u001b[0m\u001b[0;34m)\u001b[0m\u001b[0;34m)\u001b[0m\u001b[0;34m\u001b[0m\u001b[0m\n\u001b[0;32m----> 2\u001b[0;31m \u001b[0mhtml\u001b[0m \u001b[0;34m=\u001b[0m\u001b[0muh\u001b[0m\u001b[0;34m.\u001b[0m\u001b[0mread\u001b[0m\u001b[0;34m(\u001b[0m\u001b[0;34m)\u001b[0m\u001b[0;34m.\u001b[0m\u001b[0mdecode\u001b[0m\u001b[0;34m(\u001b[0m\u001b[0;34m)\u001b[0m\u001b[0;34m\u001b[0m\u001b[0m\n\u001b[0m\u001b[1;32m      3\u001b[0m \u001b[0;32mprint\u001b[0m\u001b[0;34m(\u001b[0m\u001b[0;34m\"Reading done. Total \"\u001b[0m \u001b[0;34m+\u001b[0m \u001b[0mstr\u001b[0m\u001b[0;34m(\u001b[0m\u001b[0mlen\u001b[0m\u001b[0;34m(\u001b[0m\u001b[0mhtml\u001b[0m\u001b[0;34m)\u001b[0m\u001b[0;34m)\u001b[0m \u001b[0;34m+\u001b[0m \u001b[0;34m\" characters read.\"\u001b[0m\u001b[0;34m)\u001b[0m\u001b[0;34m\u001b[0m\u001b[0m\n",
      "\u001b[0;31mUnicodeDecodeError\u001b[0m: 'ascii' codec can't decode byte 0xe2 in position 694: ordinal not in range(128)"
     ]
    }
   ],
   "source": [
    "print(\"HTTP status\",uh.getcode())\n",
    "html =uh.read().decode()\n",
    "print(\"Reading done. Total \" + str(len(html)) + \" characters read.\")"
   ]
  },
  {
   "cell_type": "code",
   "execution_count": 27,
   "metadata": {},
   "outputs": [
    {
     "name": "stdout",
     "output_type": "stream",
     "text": [
      "\n"
     ]
    }
   ],
   "source": [
    "soup = BeautifulSoup(html, 'html.parser')\n",
    "print(soup.prettify())"
   ]
  },
  {
   "cell_type": "code",
   "execution_count": null,
   "metadata": {},
   "outputs": [],
   "source": [
    "# Base URL\n",
    "urlbase = 'https://www.cia.gov/library/publications/the-world-factbook/geos/'\n",
    "demographics1=[]\n",
    "demographics2=[]\n",
    "demographics3=[]\n",
    "demographics4=[]\n",
    "demographics5=[]\n",
    "\n",
    "offset = len('65 years and over: ')\n",
    "\n",
    "# Iterate over every country\n",
    "for i in range(1,len(country_names)-1):\n",
    "    country_html=country_codes[i]+'.html'\n",
    "    url_to_get=urlbase+country_html\n",
    "    # Read the HTML from the URL and pass on to BeautifulSoup\n",
    "    html = urllib.request.urlopen(url_to_get, context=ctx).read()\n",
    "    soup = BeautifulSoup(html, 'html.parser')\n",
    "    \n",
    "    txt=soup.get_text()\n",
    "    pos1=txt.find('0-14 years: ')\n",
    "    pos2=txt.find('15-24 years: ')\n",
    "    pos3=txt.find('25-54 years: ')\n",
    "    pos4=txt.find('55-64 years: ')\n",
    "    pos5=txt.find('65 years and over: ')\n",
    "    \n",
    "    if pos1==-1:\n",
    "        print(f\"**0-14 years % data not found for {country_names[i]}!**\")\n",
    "        demographics1.append(np.nan)\n",
    "    else:\n",
    "        text=txt[pos1+12:pos1+18]\n",
    "        end=re.search('%',text).start()\n",
    "        a=float((txt[pos1+12:pos1+12+end]))\n",
    "        demographics1.append(a)\n",
    "        print(f\"0-14 years % data extraction complete for {country_names[i]}!\")\n",
    "    \n",
    "    if pos2==-1:\n",
    "        print(f\"**15-24 years % data not found for {country_names[i]}!**\")\n",
    "        demographics2.append(np.nan)\n",
    "    else:\n",
    "        text=txt[pos2+13:pos2+19]\n",
    "        end=re.search('%',text).start()\n",
    "        a=float((txt[pos2+13:pos2+13+end]))\n",
    "        demographics2.append(a)\n",
    "        print(f\"15-24 years % data extraction complete for {country_names[i]}!\")\n",
    "        \n",
    "    if pos3==-1:\n",
    "        print(f\"**25-54 years % data not found for {country_names[i]}!**\")\n",
    "        demographics3.append(np.nan)\n",
    "    else:\n",
    "        text=txt[pos3+13:pos3+19]\n",
    "        end=re.search('%',text).start()\n",
    "        a=float((txt[pos3+13:pos3+13+end]))\n",
    "        demographics3.append(a)\n",
    "        print(f\"25-54 years % data extraction complete for {country_names[i]}!\")\n",
    "    \n",
    "    if pos4==-1:\n",
    "        print(f\"**55-64 years % data not found for {country_names[i]}!**\")\n",
    "        demographics4.append(np.nan)\n",
    "    else:\n",
    "        text=txt[pos4+13:pos4+19]\n",
    "        end=re.search('%',text).start()\n",
    "        a=float((txt[pos4+13:pos4+13+end]))\n",
    "        demographics4.append(a)\n",
    "        print(f\"55-64 years % data extraction complete for {country_names[i]}!\")\n",
    "    \n",
    "    \n",
    "    if pos5==-1:\n",
    "        print(f\"**65 years and beyond % data not found for {country_names[i]}!**\")\n",
    "        demographics5.append(np.nan)\n",
    "    else:\n",
    "        text=txt[pos5+offset:pos5+offset+6]\n",
    "        end=re.search('%',text).start()\n",
    "        a=float((txt[pos5+offset:pos5+offset+end]))\n",
    "        demographics5.append(a)\n",
    "        print(f\"65 years and beyond % data extraction complete for {country_names[i]}!\")"
   ]
  },
  {
   "cell_type": "code",
   "execution_count": null,
   "metadata": {},
   "outputs": [],
   "source": []
  }
 ],
 "metadata": {
  "kernelspec": {
   "display_name": "Python 2",
   "language": "python",
   "name": "python2"
  },
  "language_info": {
   "codemirror_mode": {
    "name": "ipython",
    "version": 2
   },
   "file_extension": ".py",
   "mimetype": "text/x-python",
   "name": "python",
   "nbconvert_exporter": "python",
   "pygments_lexer": "ipython2",
   "version": "2.7.14"
  }
 },
 "nbformat": 4,
 "nbformat_minor": 2
}
