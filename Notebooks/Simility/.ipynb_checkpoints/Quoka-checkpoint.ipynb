{
 "cells": [
  {
   "cell_type": "code",
   "execution_count": 9,
   "metadata": {},
   "outputs": [
    {
     "data": {
      "text/plain": [
       "u'/Users/naveenkumar/Dropbox/OnlineWork/mlusecase/Notebooks/Simility'"
      ]
     },
     "execution_count": 9,
     "metadata": {},
     "output_type": "execute_result"
    }
   ],
   "source": [
    "pwd"
   ]
  },
  {
   "cell_type": "code",
   "execution_count": null,
   "metadata": {},
   "outputs": [],
   "source": []
  },
  {
   "cell_type": "code",
   "execution_count": 10,
   "metadata": {},
   "outputs": [],
   "source": [
    "%matplotlib inline\n",
    "import pandas as pd\n",
    "import os\n",
    "import dateutil\n",
    "import warnings\n",
    "import csv\n",
    "import numpy as np\n",
    "import re\n",
    "import gc\n",
    "\n",
    "from sklearn.feature_extraction.text import TfidfVectorizer\n",
    "from sklearn.decomposition import LatentDirichletAllocation\n",
    "from sklearn.feature_extraction.text import CountVectorizer\n",
    "from keras.preprocessing import sequence, text\n",
    "from keras.layers import Input, Embedding\n",
    "import hypertools as hyp\n",
    "\n",
    "from nltk import word_tokenize\n",
    "from nltk.corpus import stopwords\n",
    "from textblob import TextBlob\n",
    "\n",
    "import datetime as dt\n",
    "import pandas as pd\n",
    "import numpy as np\n",
    "import warnings\n",
    "import string\n",
    "\n",
    "warnings.filterwarnings('ignore')\n",
    "\n",
    "wdir = \"/Users/naveenkumar/simility/quoka\"\n",
    "LABELS = os.path.join(wdir, \"quoka_y.csv\")\n",
    "INSTANCES = os.path.join(wdir, \"quoka_uniq_filtered_cols.csv\")\n",
    "#INSTANCES = os.path.join(wdir, \"quoka_uniq_sample.csv\")\n",
    "#INSTANCES = os.path.join(wdir, \"quoka_uniq.csv\")\n"
   ]
  },
  {
   "cell_type": "code",
   "execution_count": 59,
   "metadata": {},
   "outputs": [],
   "source": [
    "y_d = pd.read_csv(LABELS,sep=',',header='infer',quotechar='\"')\n"
   ]
  },
  {
   "cell_type": "code",
   "execution_count": 12,
   "metadata": {},
   "outputs": [
    {
     "name": "stdout",
     "output_type": "stream",
     "text": [
      "{'OK'}                     3494510\n",
      "{}                          696849\n",
      "{'SCORING_DELETE'}          306559\n",
      "{'OK','SCORING_DELETE'}       9058\n",
      "{'BLOCKED'}                     11\n",
      "{'CLARIFY'}                      1\n",
      "Name: sim_dc, dtype: int64\n",
      "4506988\n",
      "4506988\n",
      "4506988\n"
     ]
    }
   ],
   "source": [
    "print(y_d['sim_dc'].value_counts())\n",
    "print(y_d['eid'].nunique())#4506988\n",
    "print(y_d.shape[0])#4506988\n",
    "y_d = y_d.sort_values('sim_updated_at', ascending=False).drop_duplicates('eid').sort_index().reset_index(drop=True)\n",
    "print(y_d.shape[0])"
   ]
  },
  {
   "cell_type": "code",
   "execution_count": 13,
   "metadata": {},
   "outputs": [
    {
     "name": "stdout",
     "output_type": "stream",
     "text": [
      "(358317, 1466)\n"
     ]
    }
   ],
   "source": [
    "x_d = pd.read_csv(INSTANCES, sep=',',header='infer',quotechar='\"', low_memory=False)\n",
    "print(x_d.shape)"
   ]
  },
  {
   "cell_type": "code",
   "execution_count": 15,
   "metadata": {},
   "outputs": [],
   "source": [
    "x_d['eid'] = x_d['eid'].apply(lambda x:str(x))"
   ]
  },
  {
   "cell_type": "code",
   "execution_count": 16,
   "metadata": {},
   "outputs": [
    {
     "name": "stdout",
     "output_type": "stream",
     "text": [
      "(52149, 1467)\n"
     ]
    }
   ],
   "source": [
    "data = pd.merge(x_d,y_d[['eid','sim_dc']], how='inner', on='eid')\n",
    "print(data.shape)"
   ]
  },
  {
   "cell_type": "code",
   "execution_count": 41,
   "metadata": {},
   "outputs": [
    {
     "data": {
      "text/plain": [
       "0    202893151\n",
       "1    202893318\n",
       "2    202893577\n",
       "3    202893607\n",
       "4    202893652\n",
       "Name: eid, dtype: object"
      ]
     },
     "execution_count": 41,
     "metadata": {},
     "output_type": "execute_result"
    }
   ],
   "source": [
    "data['eid'].head()\n",
    "\n"
   ]
  },
  {
   "cell_type": "code",
   "execution_count": 8,
   "metadata": {},
   "outputs": [
    {
     "data": {
      "text/plain": [
       "46"
      ]
     },
     "execution_count": 8,
     "metadata": {},
     "output_type": "execute_result"
    }
   ],
   "source": [
    "del y_d\n",
    "del x_d\n",
    "import gc\n",
    "gc.collect()"
   ]
  },
  {
   "cell_type": "code",
   "execution_count": null,
   "metadata": {},
   "outputs": [],
   "source": [
    "data.to_csv(os.path.join(wdir,\"quoka_x_y.csv\"))"
   ]
  },
  {
   "cell_type": "code",
   "execution_count": 25,
   "metadata": {},
   "outputs": [],
   "source": [
    "set1 = y_d['eid'].tolist()\n",
    "set2 = x_d['eid'].tolist()"
   ]
  },
  {
   "cell_type": "code",
   "execution_count": 26,
   "metadata": {},
   "outputs": [
    {
     "data": {
      "text/plain": [
       "358317"
      ]
     },
     "execution_count": 26,
     "metadata": {},
     "output_type": "execute_result"
    }
   ],
   "source": [
    "print(len(set1))\n",
    "print(len(set2))\n"
   ]
  },
  {
   "cell_type": "code",
   "execution_count": 36,
   "metadata": {},
   "outputs": [],
   "source": [
    "diffset = list(set(set2) - set(set1))"
   ]
  },
  {
   "cell_type": "code",
   "execution_count": 40,
   "metadata": {},
   "outputs": [
    {
     "data": {
      "text/plain": [
       "306168"
      ]
     },
     "execution_count": 40,
     "metadata": {},
     "output_type": "execute_result"
    }
   ],
   "source": [
    "len(diffset)"
   ]
  },
  {
   "cell_type": "code",
   "execution_count": 51,
   "metadata": {},
   "outputs": [
    {
     "data": {
      "text/plain": [
       "dtype('O')"
      ]
     },
     "execution_count": 51,
     "metadata": {},
     "output_type": "execute_result"
    }
   ],
   "source": [
    "diffset[0]\n",
    "y_d['eid'].dtype"
   ]
  },
  {
   "cell_type": "code",
   "execution_count": 61,
   "metadata": {},
   "outputs": [],
   "source": [
    "from string import strip\n",
    "y_d = y_d.replace('^\\s+','', regex=True)\n",
    "y_d = y_d.replace('\\s+$','', regex=True)"
   ]
  },
  {
   "cell_type": "code",
   "execution_count": 62,
   "metadata": {},
   "outputs": [
    {
     "data": {
      "text/html": [
       "<div>\n",
       "<style scoped>\n",
       "    .dataframe tbody tr th:only-of-type {\n",
       "        vertical-align: middle;\n",
       "    }\n",
       "\n",
       "    .dataframe tbody tr th {\n",
       "        vertical-align: top;\n",
       "    }\n",
       "\n",
       "    .dataframe thead th {\n",
       "        text-align: right;\n",
       "    }\n",
       "</style>\n",
       "<table border=\"1\" class=\"dataframe\">\n",
       "  <thead>\n",
       "    <tr style=\"text-align: right;\">\n",
       "      <th></th>\n",
       "      <th>eid</th>\n",
       "      <th>sim_created_at</th>\n",
       "      <th>sim_creation_date</th>\n",
       "      <th>sim_dc</th>\n",
       "      <th>sim_updated_at</th>\n",
       "    </tr>\n",
       "  </thead>\n",
       "  <tbody>\n",
       "  </tbody>\n",
       "</table>\n",
       "</div>"
      ],
      "text/plain": [
       "Empty DataFrame\n",
       "Columns: [eid, sim_created_at, sim_creation_date, sim_dc, sim_updated_at]\n",
       "Index: []"
      ]
     },
     "execution_count": 62,
     "metadata": {},
     "output_type": "execute_result"
    }
   ],
   "source": [
    "\n",
    "#y_d['eid'] = y_d['eid'].apply(lambda x:strip(x))\n",
    "y_d[y_d['eid'] == '201738651']"
   ]
  },
  {
   "cell_type": "code",
   "execution_count": null,
   "metadata": {},
   "outputs": [],
   "source": []
  },
  {
   "cell_type": "code",
   "execution_count": null,
   "metadata": {},
   "outputs": [],
   "source": []
  },
  {
   "cell_type": "code",
   "execution_count": null,
   "metadata": {},
   "outputs": [],
   "source": []
  },
  {
   "cell_type": "code",
   "execution_count": null,
   "metadata": {},
   "outputs": [],
   "source": []
  },
  {
   "cell_type": "code",
   "execution_count": null,
   "metadata": {},
   "outputs": [],
   "source": []
  },
  {
   "cell_type": "code",
   "execution_count": null,
   "metadata": {},
   "outputs": [],
   "source": []
  },
  {
   "cell_type": "code",
   "execution_count": 10,
   "metadata": {},
   "outputs": [],
   "source": [
    "#summarizing the fields\n",
    "\n",
    "percentiles_list = [0.01, 0.02, 0.05, 0.25, 0.50, 0.75, 0.95, 0.98, 0.99]\n",
    "x_d_allsummary = x_d.describe(percentiles=percentiles_list, exclude='object').transpose()\n",
    "x_d_allsummary.reset_index(level=0, inplace=True)\n",
    "x_d_allsummary.rename(columns={'index': 'ColName'}, inplace=True)\n",
    "x_d_allsummary['DataType'] = x_d_allsummary['ColName'].apply(lambda col:x_d[col].dtype)\n",
    "x_d_allsummary['TotalNullValues'] = x_d_allsummary['ColName'].apply(lambda col:x_d[col].isnull().sum())"
   ]
  },
  {
   "cell_type": "code",
   "execution_count": 11,
   "metadata": {},
   "outputs": [],
   "source": [
    "x_d_allsummary.to_csv(os.path.join(wdir,\"all_summary.psv\"), sep='|')"
   ]
  },
  {
   "cell_type": "code",
   "execution_count": 50,
   "metadata": {},
   "outputs": [],
   "source": [
    "drop_col_list = ['ad_text_md5','ad_text_md5_eid','ad_text','ad_text_md5_ad_text','ad_text_1','ad_headline','ad_headline_1','ad_headline_1_eid']\n",
    "x_d.drop(drop_col_list, axis=1, inplace=True)\n",
    "x_d.to_csv(os.path.join(wdir,\"quoka_sample_1L_uniq.csv\"), sep=',', quotechar='~')"
   ]
  },
  {
   "cell_type": "code",
   "execution_count": 33,
   "metadata": {},
   "outputs": [
    {
     "data": {
      "text/plain": [
       "float64    2395\n",
       "object      165\n",
       "int64        22\n",
       "bool          3\n",
       "Name: Dtype, dtype: int64"
      ]
     },
     "execution_count": 33,
     "metadata": {},
     "output_type": "execute_result"
    }
   ],
   "source": [
    "ColList = pd.DataFrame(x_d.dtypes, columns=['Dtype'])\n",
    "ColList['ColName'] = ColList.index\n",
    "ColList = ColList[['ColName','Dtype']]\n",
    "ColList.reset_index(drop=True, inplace=True)\n",
    "ColList['Dtype'].value_counts()"
   ]
  },
  {
   "cell_type": "code",
   "execution_count": 2,
   "metadata": {},
   "outputs": [
    {
     "name": "stdout",
     "output_type": "stream",
     "text": [
      "                NewColName3\n",
      "0     ad_address_kbdistance\n",
      "1         ad_address_length\n",
      "2  ad_address_nonalpharatio\n",
      "3    ad_address_repeatratio\n",
      "4     ad_address_vowelratio\n"
     ]
    }
   ],
   "source": [
    "collist = pd.read_csv('/Users/naveenkumar/simility/quoka/Col_List.csv')\n",
    "prefix_str = '^(ad_address|ad_email_address|ad_email_domain|ad_headline_1|ad_image_hash_1|ad_phone_1|ad_place_path|ad_text_email_content|ad_text_email_content_copy|ad_text_md5|ad_text_phone_number_content|city_category|device_id|device_id_ip|session_id|user_address|user_email_address|user_id|user_phone_1|username|username_num|username_variability)_'\n",
    "time_str = '_(1day|7day|30day|lifetime|1hour|lifetime_count|lifetime_sum)$'\n",
    "suffix_str = '_per_(ad_address|ad_email_address|ad_email_domain|ad_headline_1|ad_image_hash_1|ad_phone_1|ad_place_path|ad_text_email_content|ad_text_email_content_copy|ad_text_md5|ad_text_phone_number_content|city_category|device_id|device_id_ip|session_id|user_address|user_email_address|user_id|user_phone_1|username|username_num|username_variability)$'\n",
    "\n",
    "\n",
    "collist['NewColName1'] = collist['ColName'].apply(lambda x:re.sub(prefix_str, '', x))\n",
    "collist['NewColName2'] = collist['NewColName1'].apply(lambda x:re.sub(time_str, '', x))\n",
    "collist['NewColName3'] = collist['NewColName2'].apply(lambda x:re.sub(suffix_str, '', x))\n",
    "\n",
    "print(collist[['NewColName3']].head())\n",
    "collist.to_csv(os.path.join(wdir,'col_reg.csv'))\n",
    "\n",
    "t = collist.groupby(by='NewColName3', as_index=False).agg({'Base Table Id': pd.Series.nunique})\n",
    "t.rename(columns={'Base Table Id' : 'Uniquecat'}, inplace = True)"
   ]
  },
  {
   "cell_type": "code",
   "execution_count": 3,
   "metadata": {},
   "outputs": [
    {
     "name": "stdout",
     "output_type": "stream",
     "text": [
      "1     894\n",
      "2      20\n",
      "19      4\n",
      "3       4\n",
      "Name: Uniquecat, dtype: int64\n"
     ]
    }
   ],
   "source": [
    "print(t['Uniquecat'].value_counts())"
   ]
  }
 ],
 "metadata": {
  "kernelspec": {
   "display_name": "Python 2",
   "language": "python",
   "name": "python2"
  },
  "language_info": {
   "codemirror_mode": {
    "name": "ipython",
    "version": 2
   },
   "file_extension": ".py",
   "mimetype": "text/x-python",
   "name": "python",
   "nbconvert_exporter": "python",
   "pygments_lexer": "ipython2",
   "version": "2.7.15"
  }
 },
 "nbformat": 4,
 "nbformat_minor": 2
}
