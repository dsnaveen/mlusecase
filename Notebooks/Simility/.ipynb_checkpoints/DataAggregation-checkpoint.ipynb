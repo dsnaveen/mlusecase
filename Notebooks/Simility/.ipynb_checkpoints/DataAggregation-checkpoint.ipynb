{
 "cells": [
  {
   "cell_type": "markdown",
   "metadata": {},
   "source": [
    "# Summarising, Aggregating, and Grouping data in Python Pandas"
   ]
  },
  {
   "cell_type": "markdown",
   "metadata": {},
   "source": [
    "https://www.shanelynn.ie/summarising-aggregation-and-grouping-data-in-python-pandas/"
   ]
  },
  {
   "cell_type": "code",
   "execution_count": null,
   "metadata": {},
   "outputs": [],
   "source": [
    "import pandas as pd\n",
    "import dateutil\n",
    "\n",
    "# Load data from csv file\n",
    "data = pd.DataFrame.from_csv('/Users/naveenkumar/simility/quoka/phone_data.csv')\n",
    "# Convert date from string to date times\n",
    "data['date'] = data['date'].apply(dateutil.parser.parse, dayfirst=True)"
   ]
  },
  {
   "cell_type": "code",
   "execution_count": 5,
   "metadata": {},
   "outputs": [
    {
     "data": {
      "text/html": [
       "<div>\n",
       "<style scoped>\n",
       "    .dataframe tbody tr th:only-of-type {\n",
       "        vertical-align: middle;\n",
       "    }\n",
       "\n",
       "    .dataframe tbody tr th {\n",
       "        vertical-align: top;\n",
       "    }\n",
       "\n",
       "    .dataframe thead th {\n",
       "        text-align: right;\n",
       "    }\n",
       "</style>\n",
       "<table border=\"1\" class=\"dataframe\">\n",
       "  <thead>\n",
       "    <tr style=\"text-align: right;\">\n",
       "      <th></th>\n",
       "      <th>a</th>\n",
       "      <th>b</th>\n",
       "      <th>bsum1</th>\n",
       "    </tr>\n",
       "  </thead>\n",
       "  <tbody>\n",
       "    <tr>\n",
       "      <th>10/10/2012</th>\n",
       "      <td>50</td>\n",
       "      <td>0</td>\n",
       "      <td>0</td>\n",
       "    </tr>\n",
       "    <tr>\n",
       "      <th>10/11/2012</th>\n",
       "      <td>-10</td>\n",
       "      <td>90</td>\n",
       "      <td>0</td>\n",
       "    </tr>\n",
       "    <tr>\n",
       "      <th>10/12/2012</th>\n",
       "      <td>100</td>\n",
       "      <td>-5</td>\n",
       "      <td>-5</td>\n",
       "    </tr>\n",
       "  </tbody>\n",
       "</table>\n",
       "</div>"
      ],
      "text/plain": [
       "              a   b  bsum1\n",
       "10/10/2012   50   0      0\n",
       "10/11/2012  -10  90      0\n",
       "10/12/2012  100  -5     -5"
      ]
     },
     "execution_count": 5,
     "metadata": {},
     "output_type": "execute_result"
    }
   ],
   "source": [
    "\n",
    "import pandas as pd\n",
    "import numpy as np\n",
    "ds = pd.DataFrame({0: {'10/10/2012': 50, '10/11/2012': -10, '10/12/2012': 100}, 1: {'10/10/2012': 0, '10/11/2012': 90, '10/12/2012': -5}})\n",
    "\n",
    "\n",
    "ds.columns = ['a','b']\n",
    "\n",
    "def comp(df, l1,l2, newcolname):\n",
    "    \n",
    "    df['tmp_col'] = np.where((df['a']>l1) & (df['a'] < l2), df['b'],0)\n",
    "    tmp_df_cumsum = df['tmp_col'].cumsum()\n",
    "    tmp_df_cumsum = tmp_df_cumsum.to_frame()\n",
    "    tmp_df_cumsum.rename(columns={'tmp_col':newcolname}, inplace = True)\n",
    "    df = df.join(tmp_df_cumsum)\n",
    "    df.drop(['tmp_col'], axis = 1, inplace = True)\n",
    "    return df\n",
    "\n",
    "ds = comp(ds, 50,125, 'bsum1')\n",
    "ds\n"
   ]
  },
  {
   "cell_type": "code",
   "execution_count": 7,
   "metadata": {},
   "outputs": [
    {
     "name": "stdout",
     "output_type": "stream",
     "text": [
      "   name     day  no\n",
      "0  Jack  Monday  10\n",
      "4  Jill  Monday  40\n",
      "   name        day   no  no_csum\n",
      "0  Jack     Monday   10      0.0\n",
      "1  Jack    Tuesday   20     20.0\n",
      "2  Jack    Tuesday   10     30.0\n",
      "3  Jack  Wednesday   50      0.0\n",
      "4  Jill     Monday   40      0.0\n",
      "5  Jill  Wednesday  110      0.0\n",
      "   name        day   no  no_csum  no_csum1\n",
      "0  Jack     Monday   10      0.0       NaN\n",
      "1  Jack    Tuesday   20     20.0      20.0\n",
      "2  Jack    Tuesday   10     30.0      30.0\n",
      "3  Jack  Wednesday   50      0.0       NaN\n",
      "4  Jill     Monday   40      0.0       NaN\n",
      "5  Jill  Wednesday  110      0.0       NaN\n"
     ]
    }
   ],
   "source": [
    "import pandas as pd\n",
    "import os\n",
    "import dateutil\n",
    "import warnings\n",
    "import csv\n",
    "import numpy as np\n",
    "import re\n",
    "\n",
    "warnings.filterwarnings('ignore')\n",
    "\n",
    "wdir = \"/Users/naveenkumar/simility/quoka\"\n",
    "LABELS = os.path.join(wdir, \"testdata.csv\")\n",
    "df = pd.read_csv(LABELS)\n",
    "print(df[df['day'] == 'Monday'])\n",
    "\n",
    "df['no_csum'] = df[(df['day'] =='Tuesday') & (df['name'] == 'Jack')].groupby(['name'])['no'].cumsum()\n",
    "df['no_csum'] = df['no_csum'].fillna(0)\n",
    "print(df)\n",
    "\n",
    "df['no_csum1'] = df[(df['day'] =='Tuesday')]['no'].cumsum()\n",
    "print(df)"
   ]
  },
  {
   "cell_type": "code",
   "execution_count": null,
   "metadata": {},
   "outputs": [],
   "source": []
  }
 ],
 "metadata": {
  "kernelspec": {
   "display_name": "Python 3",
   "language": "python",
   "name": "python3"
  },
  "language_info": {
   "codemirror_mode": {
    "name": "ipython",
    "version": 3
   },
   "file_extension": ".py",
   "mimetype": "text/x-python",
   "name": "python",
   "nbconvert_exporter": "python",
   "pygments_lexer": "ipython3",
   "version": "3.6.5"
  }
 },
 "nbformat": 4,
 "nbformat_minor": 2
}
