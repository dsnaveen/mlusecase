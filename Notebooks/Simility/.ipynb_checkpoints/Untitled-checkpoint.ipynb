{
 "cells": [
  {
   "cell_type": "markdown",
   "metadata": {},
   "source": [
    "# USING SMOTE FOR CLASS IMBALANCE"
   ]
  },
  {
   "cell_type": "code",
   "execution_count": null,
   "metadata": {},
   "outputs": [],
   "source": [
    "from collections import Counter\n",
    "from sklearn.datasets import make_classification\n",
    "from imblearn.over_sampling import SMOTE \n",
    "\n",
    "X, y = make_classification(n_classes=2, class_sep=2,\n",
    "                           weights=[0.1, 0.9], n_informative=3, n_redundant=1, \n",
    "                           flip_y=0,n_features=20, n_clusters_per_class=1, n_samples=1000, random_state=10)\n",
    "\n",
    "print('Original dataset shape {}'.format(Counter(y)))\n",
    "\n",
    "sm = SMOTE(random_state=42)\n",
    "X_res, y_res = sm.fit_sample(X, y)\n",
    "print('Resampled dataset shape {}'.format(Counter(y_res)))"
   ]
  },
  {
   "cell_type": "code",
   "execution_count": 13,
   "metadata": {},
   "outputs": [],
   "source": [
    "import pandas as pd\n",
    "df1 = pd.DataFrame({'First_Name': ['Naveen'],\n",
    "                    'Last_Name' : ['Kumar']})\n",
    "df1"
   ]
  },
  {
   "cell_type": "code",
   "execution_count": 17,
   "metadata": {},
   "outputs": [
    {
     "data": {
      "text/plain": [
       "1"
      ]
     },
     "execution_count": 17,
     "metadata": {},
     "output_type": "execute_result"
    }
   ],
   "source": [
    "\n",
    "[\"foo\", \"bar\", \"baz\"].index(\"bar\")"
   ]
  },
  {
   "cell_type": "markdown",
   "metadata": {},
   "source": [
    "# filtering list using regex"
   ]
  },
  {
   "cell_type": "code",
   "execution_count": null,
   "metadata": {},
   "outputs": [],
   "source": [
    "import re\n",
    "\n",
    "mylist = [\"dog\", \"cat\", \"wildcat\", \"thundercat\", \"cow\", \"hooo\"]\n",
    "r = re.compile(\".*cat\")\n",
    "newlist = list(filter(r.match, mylist)) # Read Note\n",
    "print(newlist)\n",
    "list(filter(re.compile(\".*(cat|dog)\").match , mylist))"
   ]
  },
  {
   "cell_type": "markdown",
   "metadata": {},
   "source": [
    "# REGEX REPLACE IN PANDAS"
   ]
  },
  {
   "cell_type": "code",
   "execution_count": null,
   "metadata": {},
   "outputs": [],
   "source": [
    "df = pd.DataFrame({\"country\":[\"United Kingdom of Great Britain\", \"Ireland\", \"United Kingdom of Great Britain & Ireland\"], \"value\":[12,31, 43]})\n",
    "print(df)\n",
    "df['country'].replace(\"United Kingdom\", \"UK\", regex=True, inplace=True)"
   ]
  },
  {
   "cell_type": "markdown",
   "metadata": {},
   "source": [
    "# Parsing Date in Pandas"
   ]
  },
  {
   "cell_type": "code",
   "execution_count": null,
   "metadata": {},
   "outputs": [],
   "source": [
    "import pandas as pd\n",
    "import dateutil\n",
    "import pandas as pd\n",
    "import os\n",
    "import dateutil\n",
    "import warnings\n",
    "import csv\n",
    "import numpy as np\n",
    "import re\n",
    "\n",
    "warnings.filterwarnings('ignore')\n",
    "\n",
    "wdir = \"/Users/naveenkumar/simility/quoka\"\n",
    "\n",
    "# Load data from csv file\n",
    "data = pd.DataFrame.from_csv(os.path.join(wdir,'phone_data.csv'))\n",
    "# Convert date from string to date times\n",
    "data['date'] = data['date'].apply(dateutil.parser.parse, dayfirst=True)"
   ]
  },
  {
   "cell_type": "markdown",
   "metadata": {},
   "source": [
    "# Taking Sample in Pandas"
   ]
  },
  {
   "cell_type": "code",
   "execution_count": null,
   "metadata": {},
   "outputs": [],
   "source": [
    "import pandas\n",
    "\n",
    "df = pandas.DataFrame(pandas.np.random.random(100))\n",
    "\n",
    "# Randomly sample 70% of your dataframe\n",
    "df_percent = df.sample(frac=0.7)\n",
    "\n",
    "# Randomly sample 7 elements from your dataframe\n",
    "df_elements = df.sample(n=7)"
   ]
  },
  {
   "cell_type": "markdown",
   "metadata": {},
   "source": [
    "# Various Python Command"
   ]
  },
  {
   "cell_type": "code",
   "execution_count": null,
   "metadata": {},
   "outputs": [],
   "source": [
    "first n rows \n",
    "data = y_d.iloc[0:1000,:]\n",
    "cleaning dates\n",
    "data['sim_updated_at_clean'] = data['sim_updated_at'].apply(dateutil.parser.parse)\n",
    "\n",
    "bring index to column \n",
    "x_d_allsummary.reset_index(level=0, inplace=True)\n",
    "\n",
    "replace new line in pandas using regex\n",
    "df = df.replace(r'\\\\n',' ', regex=True)\n",
    "\n",
    "renaming columns in pandas \n",
    "x_d_allsummary.rename(columns={'index': 'ColName'}, inplace=True)\n",
    "df.rename(columns={'oldName1': 'newName1', 'oldName2': 'newName2'}, inplace=True)\n",
    "\n",
    "taking a sample in pandas\n",
    "df_percent = df.sample(frac=0.7)\n",
    "\n",
    "# Randomly sample 7 elements from your dataframe\n",
    "df_elements = df.sample(n=7)\n",
    "\n",
    "x_d = x_d.replace(r'\\n','', regex=True)\n",
    "print(x_d.shape)\n",
    "\n",
    "x_d = pd.read_csv(INSTANCES, sep=',',header='infer',\n",
    "                quotechar='~', quoting=csv.QUOTE_MINIMAL, engine='python', escapechar='\\\\')\n",
    "\n",
    "x_d = x_d.sort_values('sim_updated_at', ascending=False).drop_duplicates('eid').sort_index().reset_index(drop=True)\n",
    "print(x_d.shape)"
   ]
  }
 ],
 "metadata": {
  "kernelspec": {
   "display_name": "Python 2",
   "language": "python",
   "name": "python2"
  },
  "language_info": {
   "codemirror_mode": {
    "name": "ipython",
    "version": 2
   },
   "file_extension": ".py",
   "mimetype": "text/x-python",
   "name": "python",
   "nbconvert_exporter": "python",
   "pygments_lexer": "ipython2",
   "version": "2.7.15"
  }
 },
 "nbformat": 4,
 "nbformat_minor": 2
}
