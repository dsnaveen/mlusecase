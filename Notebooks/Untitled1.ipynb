{
 "cells": [
  {
   "cell_type": "code",
   "execution_count": 131,
   "metadata": {},
   "outputs": [
    {
     "data": {
      "text/html": [
       "<div>\n",
       "<style scoped>\n",
       "    .dataframe tbody tr th:only-of-type {\n",
       "        vertical-align: middle;\n",
       "    }\n",
       "\n",
       "    .dataframe tbody tr th {\n",
       "        vertical-align: top;\n",
       "    }\n",
       "\n",
       "    .dataframe thead th {\n",
       "        text-align: right;\n",
       "    }\n",
       "</style>\n",
       "<table border=\"1\" class=\"dataframe\">\n",
       "  <thead>\n",
       "    <tr style=\"text-align: right;\">\n",
       "      <th></th>\n",
       "      <th>Person_Id</th>\n",
       "      <th>Floor_in</th>\n",
       "      <th>Floor_in_time</th>\n",
       "      <th>Elevator_in_time</th>\n",
       "      <th>Elevator_out_time</th>\n",
       "      <th>Floor_out</th>\n",
       "    </tr>\n",
       "  </thead>\n",
       "  <tbody>\n",
       "    <tr>\n",
       "      <th>0</th>\n",
       "      <td>1</td>\n",
       "      <td>0</td>\n",
       "      <td>03-04-2018 23:10:15</td>\n",
       "      <td>03-04-2018 23:12:30</td>\n",
       "      <td>03-04-2018 23:13:39</td>\n",
       "      <td>7</td>\n",
       "    </tr>\n",
       "    <tr>\n",
       "      <th>1</th>\n",
       "      <td>1</td>\n",
       "      <td>2</td>\n",
       "      <td>03-04-2018 11:10:15</td>\n",
       "      <td>03-04-2018 11:12:30</td>\n",
       "      <td>03-04-2018 11:13:39</td>\n",
       "      <td>6</td>\n",
       "    </tr>\n",
       "    <tr>\n",
       "      <th>2</th>\n",
       "      <td>1</td>\n",
       "      <td>4</td>\n",
       "      <td>05-04-2018 11:10:15</td>\n",
       "      <td>05-04-2018 11:12:30</td>\n",
       "      <td>05-04-2018 11:13:39</td>\n",
       "      <td>20</td>\n",
       "    </tr>\n",
       "    <tr>\n",
       "      <th>3</th>\n",
       "      <td>1</td>\n",
       "      <td>0</td>\n",
       "      <td>03-04-2018 11:10:15</td>\n",
       "      <td>03-04-2018 11:12:30</td>\n",
       "      <td>03-04-2018 11:13:39</td>\n",
       "      <td>7</td>\n",
       "    </tr>\n",
       "    <tr>\n",
       "      <th>4</th>\n",
       "      <td>2</td>\n",
       "      <td>0</td>\n",
       "      <td>03-04-2018 23:10:15</td>\n",
       "      <td>03-04-2018 23:12:30</td>\n",
       "      <td>03-04-2018 23:13:39</td>\n",
       "      <td>7</td>\n",
       "    </tr>\n",
       "    <tr>\n",
       "      <th>5</th>\n",
       "      <td>2</td>\n",
       "      <td>4</td>\n",
       "      <td>04-04-2018 23:10:15</td>\n",
       "      <td>04-04-2018 23:12:30</td>\n",
       "      <td>04-04-2018 23:13:39</td>\n",
       "      <td>6</td>\n",
       "    </tr>\n",
       "    <tr>\n",
       "      <th>6</th>\n",
       "      <td>2</td>\n",
       "      <td>3</td>\n",
       "      <td>03-04-2018 23:10:15</td>\n",
       "      <td>03-04-2018 23:12:30</td>\n",
       "      <td>03-04-2018 23:13:39</td>\n",
       "      <td>20</td>\n",
       "    </tr>\n",
       "    <tr>\n",
       "      <th>7</th>\n",
       "      <td>2</td>\n",
       "      <td>8</td>\n",
       "      <td>03-04-2018 23:10:15</td>\n",
       "      <td>03-04-2018 23:12:30</td>\n",
       "      <td>03-04-2018 23:13:39</td>\n",
       "      <td>7</td>\n",
       "    </tr>\n",
       "  </tbody>\n",
       "</table>\n",
       "</div>"
      ],
      "text/plain": [
       "   Person_Id  Floor_in        Floor_in_time     Elevator_in_time  \\\n",
       "0          1         0  03-04-2018 23:10:15  03-04-2018 23:12:30   \n",
       "1          1         2  03-04-2018 11:10:15  03-04-2018 11:12:30   \n",
       "2          1         4  05-04-2018 11:10:15  05-04-2018 11:12:30   \n",
       "3          1         0  03-04-2018 11:10:15  03-04-2018 11:12:30   \n",
       "4          2         0  03-04-2018 23:10:15  03-04-2018 23:12:30   \n",
       "5          2         4  04-04-2018 23:10:15  04-04-2018 23:12:30   \n",
       "6          2         3  03-04-2018 23:10:15  03-04-2018 23:12:30   \n",
       "7          2         8  03-04-2018 23:10:15  03-04-2018 23:12:30   \n",
       "\n",
       "     Elevator_out_time  Floor_out  \n",
       "0  03-04-2018 23:13:39          7  \n",
       "1  03-04-2018 11:13:39          6  \n",
       "2  05-04-2018 11:13:39         20  \n",
       "3  03-04-2018 11:13:39          7  \n",
       "4  03-04-2018 23:13:39          7  \n",
       "5  04-04-2018 23:13:39          6  \n",
       "6  03-04-2018 23:13:39         20  \n",
       "7  03-04-2018 23:13:39          7  "
      ]
     },
     "execution_count": 131,
     "metadata": {},
     "output_type": "execute_result"
    }
   ],
   "source": [
    "%matplotlib inline\n",
    "import numpy as np\n",
    "import pandas as pd\n",
    "from datetime import datetime\n",
    "import warnings\n",
    "warnings.filterwarnings('ignore')\n",
    "\n",
    "fdir = '/Users/naveenkumar/Dropbox/OnlineWork/Datasets/ElevatorProblem/'\n",
    "\n",
    "ds = pd.read_csv(fdir + 'input.csv')\n",
    "ds"
   ]
  },
  {
   "cell_type": "code",
   "execution_count": 127,
   "metadata": {},
   "outputs": [
    {
     "data": {
      "text/plain": [
       "'2018-04-03'"
      ]
     },
     "execution_count": 127,
     "metadata": {},
     "output_type": "execute_result"
    }
   ],
   "source": [
    "def houroftheday(x):\n",
    "    tmp = datetime.strptime(x, '%d-%m-%Y %H:%M:%S')\n",
    "    return str(tmp.hour)\n",
    "\n",
    "def getdate(x):\n",
    "    tmp = datetime.strptime(x, '%d-%m-%Y %H:%M:%S')\n",
    "    return str(tmp.date())"
   ]
  },
  {
   "cell_type": "markdown",
   "metadata": {},
   "source": [
    "Total unique floor accessed"
   ]
  },
  {
   "cell_type": "code",
   "execution_count": 137,
   "metadata": {},
   "outputs": [
    {
     "name": "stdout",
     "output_type": "stream",
     "text": [
      "(16, 4)\n",
      "(13, 4)\n"
     ]
    }
   ],
   "source": [
    "Floor_in_Access = ds[['Person_Id', 'Floor_in', 'Elevator_in_time']]\n",
    "Floor_out_Access = ds[['Person_Id', 'Floor_out', 'Elevator_in_time']]\n",
    "\n",
    "Floor_in_Access.rename(columns={'Floor_in':'Floor_id'}, inplace=True)\n",
    "Floor_out_Access.rename(columns={'Floor_out':'Floor_id'}, inplace=True)\n",
    "\n",
    "All_Floor_Accessed = pd.concat([Floor_in_Access, Floor_out_Access])\n",
    "All_Floor_Accessed['DayAccessed'] =  All_Floor_Accessed['Elevator_in_time'].apply(lambda col:getdate(col))\n",
    "print All_Floor_Accessed.shape\n",
    "\n",
    "Unique_Floor_Accessed = All_Floor_Accessed.drop_duplicates(['Person_Id', 'Floor_id','DayAccessed'])\n",
    "print Unique_Floor_Accessed.shape\n",
    "#Unique_floor_accessed_count = Unique_Floor_Accessed[['Person_Id', 'Floor_id']].groupby(['Person_Id'], as_index=False).count()\n",
    "#Unique_floor_accessed_count.rename(columns={'Floor_id':'NumUniqueFloorsAccessed'}, inplace=True)"
   ]
  },
  {
   "cell_type": "markdown",
   "metadata": {},
   "source": [
    "#Total Journeys in odd hours/ Total Journeys\n",
    "\n",
    "\n",
    "Hour Oddness Score"
   ]
  },
  {
   "cell_type": "code",
   "execution_count": 115,
   "metadata": {},
   "outputs": [
    {
     "data": {
      "text/html": [
       "<div>\n",
       "<style scoped>\n",
       "    .dataframe tbody tr th:only-of-type {\n",
       "        vertical-align: middle;\n",
       "    }\n",
       "\n",
       "    .dataframe tbody tr th {\n",
       "        vertical-align: top;\n",
       "    }\n",
       "\n",
       "    .dataframe thead th {\n",
       "        text-align: right;\n",
       "    }\n",
       "</style>\n",
       "<table border=\"1\" class=\"dataframe\">\n",
       "  <thead>\n",
       "    <tr style=\"text-align: right;\">\n",
       "      <th></th>\n",
       "      <th>Person_Id</th>\n",
       "      <th>Elevator_in_time</th>\n",
       "      <th>Ele_Access_Hour</th>\n",
       "    </tr>\n",
       "  </thead>\n",
       "  <tbody>\n",
       "    <tr>\n",
       "      <th>0</th>\n",
       "      <td>1</td>\n",
       "      <td>03-04-2018 23:12:30</td>\n",
       "      <td>23</td>\n",
       "    </tr>\n",
       "    <tr>\n",
       "      <th>1</th>\n",
       "      <td>1</td>\n",
       "      <td>03-04-2018 11:12:30</td>\n",
       "      <td>11</td>\n",
       "    </tr>\n",
       "    <tr>\n",
       "      <th>2</th>\n",
       "      <td>1</td>\n",
       "      <td>03-04-2018 11:12:30</td>\n",
       "      <td>11</td>\n",
       "    </tr>\n",
       "    <tr>\n",
       "      <th>3</th>\n",
       "      <td>1</td>\n",
       "      <td>03-04-2018 11:12:30</td>\n",
       "      <td>11</td>\n",
       "    </tr>\n",
       "    <tr>\n",
       "      <th>4</th>\n",
       "      <td>2</td>\n",
       "      <td>03-04-2018 23:12:30</td>\n",
       "      <td>23</td>\n",
       "    </tr>\n",
       "    <tr>\n",
       "      <th>5</th>\n",
       "      <td>2</td>\n",
       "      <td>03-04-2018 23:12:30</td>\n",
       "      <td>23</td>\n",
       "    </tr>\n",
       "    <tr>\n",
       "      <th>6</th>\n",
       "      <td>2</td>\n",
       "      <td>03-04-2018 23:12:30</td>\n",
       "      <td>23</td>\n",
       "    </tr>\n",
       "    <tr>\n",
       "      <th>7</th>\n",
       "      <td>2</td>\n",
       "      <td>03-04-2018 23:12:30</td>\n",
       "      <td>23</td>\n",
       "    </tr>\n",
       "  </tbody>\n",
       "</table>\n",
       "</div>"
      ],
      "text/plain": [
       "   Person_Id     Elevator_in_time Ele_Access_Hour\n",
       "0          1  03-04-2018 23:12:30              23\n",
       "1          1  03-04-2018 11:12:30              11\n",
       "2          1  03-04-2018 11:12:30              11\n",
       "3          1  03-04-2018 11:12:30              11\n",
       "4          2  03-04-2018 23:12:30              23\n",
       "5          2  03-04-2018 23:12:30              23\n",
       "6          2  03-04-2018 23:12:30              23\n",
       "7          2  03-04-2018 23:12:30              23"
      ]
     },
     "execution_count": 115,
     "metadata": {},
     "output_type": "execute_result"
    }
   ],
   "source": [
    "Ele_Access_Hours = ds[['Person_Id', 'Elevator_in_time']]\n",
    "Ele_Access_Hours['Ele_Access_Hour'] = Ele_Access_Hours['Elevator_in_time'].apply(lambda col:houroftheday(col))\n",
    "Ele_Access_Hours"
   ]
  },
  {
   "cell_type": "code",
   "execution_count": 116,
   "metadata": {},
   "outputs": [],
   "source": [
    "Ele_Access_Hours_count = Ele_Access_Hours[['Person_Id', 'Ele_Access_Hour']].groupby(['Ele_Access_Hour'], as_index=False).count()\n",
    "Ele_Access_Hours_count.rename(columns={'Person_Id':'NumTimeFloorAccessed'}, inplace=True)\n",
    "Ele_Access_Hours_count['HourOddnessScore'] = np.power(Ele_Access_Hours_count['NumTimeFloorAccessed'].rank(ascending = False),1.5)\n",
    "\n",
    "\n"
   ]
  },
  {
   "cell_type": "code",
   "execution_count": 122,
   "metadata": {},
   "outputs": [
    {
     "name": "stdout",
     "output_type": "stream",
     "text": [
      "   Person_Id     Elevator_in_time Ele_Access_Hour  HourOddnessScore\n",
      "0          1  03-04-2018 23:12:30              23          1.000000\n",
      "1          1  03-04-2018 11:12:30              11          2.828427\n",
      "2          1  03-04-2018 11:12:30              11          2.828427\n",
      "3          1  03-04-2018 11:12:30              11          2.828427\n",
      "4          2  03-04-2018 23:12:30              23          1.000000\n",
      "5          2  03-04-2018 23:12:30              23          1.000000\n",
      "6          2  03-04-2018 23:12:30              23          1.000000\n",
      "7          2  03-04-2018 23:12:30              23          1.000000\n",
      "   Person_Id  HourOddnessScore\n",
      "0          1           2.37132\n",
      "1          2           1.00000\n"
     ]
    }
   ],
   "source": [
    "Ele_Access_Hours_Oddness = pd.merge(Ele_Access_Hours, Ele_Access_Hours_count[['Ele_Access_Hour', 'HourOddnessScore']], on='Ele_Access_Hour', how='left')\n",
    "print Ele_Access_Hours_Oddness\n",
    "HouseOddnessScore = Ele_Access_Hours_Oddness[['Person_Id', 'HourOddnessScore']].groupby(['Person_Id'], as_index=False).mean()\n",
    "print HouseOddnessScore"
   ]
  },
  {
   "cell_type": "code",
   "execution_count": 94,
   "metadata": {},
   "outputs": [
    {
     "data": {
      "text/html": [
       "<div>\n",
       "<style scoped>\n",
       "    .dataframe tbody tr th:only-of-type {\n",
       "        vertical-align: middle;\n",
       "    }\n",
       "\n",
       "    .dataframe tbody tr th {\n",
       "        vertical-align: top;\n",
       "    }\n",
       "\n",
       "    .dataframe thead th {\n",
       "        text-align: right;\n",
       "    }\n",
       "</style>\n",
       "<table border=\"1\" class=\"dataframe\">\n",
       "  <thead>\n",
       "    <tr style=\"text-align: right;\">\n",
       "      <th></th>\n",
       "      <th></th>\n",
       "    </tr>\n",
       "    <tr>\n",
       "      <th>Person_Id</th>\n",
       "      <th>Ele_Access_Hour</th>\n",
       "    </tr>\n",
       "  </thead>\n",
       "  <tbody>\n",
       "    <tr>\n",
       "      <th rowspan=\"2\" valign=\"top\">1</th>\n",
       "      <th>11</th>\n",
       "    </tr>\n",
       "    <tr>\n",
       "      <th>23</th>\n",
       "    </tr>\n",
       "    <tr>\n",
       "      <th>2</th>\n",
       "      <th>23</th>\n",
       "    </tr>\n",
       "  </tbody>\n",
       "</table>\n",
       "</div>"
      ],
      "text/plain": [
       "Empty DataFrame\n",
       "Columns: []\n",
       "Index: [(1, 11), (1, 23), (2, 23)]"
      ]
     },
     "execution_count": 94,
     "metadata": {},
     "output_type": "execute_result"
    }
   ],
   "source": [
    "Ele_Access_Hours[['Person_Id', 'Ele_Access_Hour']].groupby(['Person_Id','Ele_Access_Hour']).count()"
   ]
  },
  {
   "cell_type": "code",
   "execution_count": null,
   "metadata": {},
   "outputs": [],
   "source": []
  }
 ],
 "metadata": {
  "kernelspec": {
   "display_name": "Python 2",
   "language": "python",
   "name": "python2"
  },
  "language_info": {
   "codemirror_mode": {
    "name": "ipython",
    "version": 2
   },
   "file_extension": ".py",
   "mimetype": "text/x-python",
   "name": "python",
   "nbconvert_exporter": "python",
   "pygments_lexer": "ipython2",
   "version": "2.7.14"
  }
 },
 "nbformat": 4,
 "nbformat_minor": 2
}
