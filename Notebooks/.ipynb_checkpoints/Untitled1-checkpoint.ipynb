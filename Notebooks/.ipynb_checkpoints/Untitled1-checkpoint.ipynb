{
 "cells": [
  {
   "cell_type": "code",
   "execution_count": 48,
   "metadata": {},
   "outputs": [
    {
     "data": {
      "text/html": [
       "<div>\n",
       "<style scoped>\n",
       "    .dataframe tbody tr th:only-of-type {\n",
       "        vertical-align: middle;\n",
       "    }\n",
       "\n",
       "    .dataframe tbody tr th {\n",
       "        vertical-align: top;\n",
       "    }\n",
       "\n",
       "    .dataframe thead th {\n",
       "        text-align: right;\n",
       "    }\n",
       "</style>\n",
       "<table border=\"1\" class=\"dataframe\">\n",
       "  <thead>\n",
       "    <tr style=\"text-align: right;\">\n",
       "      <th></th>\n",
       "      <th>Person_Id</th>\n",
       "      <th>Floor_in</th>\n",
       "      <th>Floor_in_time</th>\n",
       "      <th>Elevator_in_time</th>\n",
       "      <th>Elevator_out_time</th>\n",
       "      <th>Floor_out</th>\n",
       "    </tr>\n",
       "  </thead>\n",
       "  <tbody>\n",
       "    <tr>\n",
       "      <th>0</th>\n",
       "      <td>1</td>\n",
       "      <td>0</td>\n",
       "      <td>03-04-2018 23:10:15</td>\n",
       "      <td>03-04-2018 23:12:30</td>\n",
       "      <td>03-04-2018 23:13:39</td>\n",
       "      <td>7</td>\n",
       "    </tr>\n",
       "    <tr>\n",
       "      <th>1</th>\n",
       "      <td>1</td>\n",
       "      <td>2</td>\n",
       "      <td>03-04-2018 11:10:15</td>\n",
       "      <td>03-04-2018 11:12:30</td>\n",
       "      <td>03-04-2018 11:13:39</td>\n",
       "      <td>6</td>\n",
       "    </tr>\n",
       "    <tr>\n",
       "      <th>2</th>\n",
       "      <td>1</td>\n",
       "      <td>4</td>\n",
       "      <td>03-04-2018 11:10:15</td>\n",
       "      <td>03-04-2018 11:12:30</td>\n",
       "      <td>03-04-2018 11:13:39</td>\n",
       "      <td>20</td>\n",
       "    </tr>\n",
       "    <tr>\n",
       "      <th>3</th>\n",
       "      <td>1</td>\n",
       "      <td>0</td>\n",
       "      <td>03-04-2018 11:10:15</td>\n",
       "      <td>03-04-2018 11:12:30</td>\n",
       "      <td>03-04-2018 11:13:39</td>\n",
       "      <td>7</td>\n",
       "    </tr>\n",
       "    <tr>\n",
       "      <th>4</th>\n",
       "      <td>2</td>\n",
       "      <td>0</td>\n",
       "      <td>03-04-2018 23:10:15</td>\n",
       "      <td>03-04-2018 23:12:30</td>\n",
       "      <td>03-04-2018 23:13:39</td>\n",
       "      <td>7</td>\n",
       "    </tr>\n",
       "    <tr>\n",
       "      <th>5</th>\n",
       "      <td>2</td>\n",
       "      <td>4</td>\n",
       "      <td>03-04-2018 23:10:15</td>\n",
       "      <td>03-04-2018 23:12:30</td>\n",
       "      <td>03-04-2018 23:13:39</td>\n",
       "      <td>6</td>\n",
       "    </tr>\n",
       "    <tr>\n",
       "      <th>6</th>\n",
       "      <td>2</td>\n",
       "      <td>3</td>\n",
       "      <td>03-04-2018 23:10:15</td>\n",
       "      <td>03-04-2018 23:12:30</td>\n",
       "      <td>03-04-2018 23:13:39</td>\n",
       "      <td>20</td>\n",
       "    </tr>\n",
       "    <tr>\n",
       "      <th>7</th>\n",
       "      <td>2</td>\n",
       "      <td>8</td>\n",
       "      <td>03-04-2018 23:10:15</td>\n",
       "      <td>03-04-2018 23:12:30</td>\n",
       "      <td>03-04-2018 23:13:39</td>\n",
       "      <td>7</td>\n",
       "    </tr>\n",
       "  </tbody>\n",
       "</table>\n",
       "</div>"
      ],
      "text/plain": [
       "   Person_Id  Floor_in        Floor_in_time     Elevator_in_time  \\\n",
       "0          1         0  03-04-2018 23:10:15  03-04-2018 23:12:30   \n",
       "1          1         2  03-04-2018 11:10:15  03-04-2018 11:12:30   \n",
       "2          1         4  03-04-2018 11:10:15  03-04-2018 11:12:30   \n",
       "3          1         0  03-04-2018 11:10:15  03-04-2018 11:12:30   \n",
       "4          2         0  03-04-2018 23:10:15  03-04-2018 23:12:30   \n",
       "5          2         4  03-04-2018 23:10:15  03-04-2018 23:12:30   \n",
       "6          2         3  03-04-2018 23:10:15  03-04-2018 23:12:30   \n",
       "7          2         8  03-04-2018 23:10:15  03-04-2018 23:12:30   \n",
       "\n",
       "     Elevator_out_time  Floor_out  \n",
       "0  03-04-2018 23:13:39          7  \n",
       "1  03-04-2018 11:13:39          6  \n",
       "2  03-04-2018 11:13:39         20  \n",
       "3  03-04-2018 11:13:39          7  \n",
       "4  03-04-2018 23:13:39          7  \n",
       "5  03-04-2018 23:13:39          6  \n",
       "6  03-04-2018 23:13:39         20  \n",
       "7  03-04-2018 23:13:39          7  "
      ]
     },
     "execution_count": 48,
     "metadata": {},
     "output_type": "execute_result"
    }
   ],
   "source": [
    "%matplotlib inline\n",
    "import numpy as np\n",
    "import pandas as pd\n",
    "from datetime import datetime\n",
    "import warnings\n",
    "warnings.filterwarnings('ignore')\n",
    "\n",
    "fdir = '/Users/naveenkumar/Dropbox/OnlineWork/Datasets/ElevatorProblem/'\n",
    "\n",
    "ds = pd.read_csv(fdir + 'input.csv')\n",
    "ds"
   ]
  },
  {
   "cell_type": "markdown",
   "metadata": {},
   "source": [
    "Total unique floor accessed"
   ]
  },
  {
   "cell_type": "code",
   "execution_count": 74,
   "metadata": {},
   "outputs": [
    {
     "data": {
      "text/html": [
       "<div>\n",
       "<style scoped>\n",
       "    .dataframe tbody tr th:only-of-type {\n",
       "        vertical-align: middle;\n",
       "    }\n",
       "\n",
       "    .dataframe tbody tr th {\n",
       "        vertical-align: top;\n",
       "    }\n",
       "\n",
       "    .dataframe thead th {\n",
       "        text-align: right;\n",
       "    }\n",
       "</style>\n",
       "<table border=\"1\" class=\"dataframe\">\n",
       "  <thead>\n",
       "    <tr style=\"text-align: right;\">\n",
       "      <th></th>\n",
       "      <th>Person_Id</th>\n",
       "      <th>NumUniqueFloorsAccessed</th>\n",
       "    </tr>\n",
       "  </thead>\n",
       "  <tbody>\n",
       "    <tr>\n",
       "      <th>0</th>\n",
       "      <td>1</td>\n",
       "      <td>6</td>\n",
       "    </tr>\n",
       "    <tr>\n",
       "      <th>1</th>\n",
       "      <td>2</td>\n",
       "      <td>7</td>\n",
       "    </tr>\n",
       "  </tbody>\n",
       "</table>\n",
       "</div>"
      ],
      "text/plain": [
       "   Person_Id  NumUniqueFloorsAccessed\n",
       "0          1                        6\n",
       "1          2                        7"
      ]
     },
     "execution_count": 74,
     "metadata": {},
     "output_type": "execute_result"
    }
   ],
   "source": [
    "Floor_in_Access = ds[['Person_Id', 'Floor_in']]\n",
    "Floor_out_Access = ds[['Person_Id', 'Floor_out']]\n",
    "\n",
    "Floor_in_Access.rename(columns={'Floor_in':'Floor_id'}, inplace=True)\n",
    "Floor_out_Access.rename(columns={'Floor_out':'Floor_id'}, inplace=True)\n",
    "\n",
    "All_Floor_Accessed = pd.concat([Floor_in_Access, Floor_out_Access])\n",
    "\n",
    "Unique_Floor_Accessed = All_Floor_Accessed.drop_duplicates(['Person_Id', 'Floor_id'])\n",
    "Unique_floor_accessed_count = Unique_Floor_Accessed[['Person_Id', 'Floor_id']].groupby(['Person_Id'], as_index=False).count()\n",
    "Unique_floor_accessed_count.rename(columns={'Floor_id':'NumUniqueFloorsAccessed'}, inplace=True)"
   ]
  },
  {
   "cell_type": "markdown",
   "metadata": {},
   "source": [
    "#Total Journeys in odd hours/ Total Journeys\n",
    "\n",
    "\n",
    "Hour Oddness Score"
   ]
  },
  {
   "cell_type": "code",
   "execution_count": 69,
   "metadata": {},
   "outputs": [],
   "source": [
    "def houroftheday(x):\n",
    "    tmp = datetime.strptime(x, '%d-%m-%Y %H:%M:%S')\n",
    "    return str(tmp.hour)\n",
    "\n",
    "Ele_Access_Hours = ds[['Person_Id', 'Elevator_in_time']]\n",
    "Ele_Access_Hours['Ele_Access_Hour'] = Ele_Access_Hours['Elevator_in_time'].apply(lambda col:houroftheday(col))"
   ]
  },
  {
   "cell_type": "code",
   "execution_count": 85,
   "metadata": {},
   "outputs": [
    {
     "data": {
      "text/html": [
       "<div>\n",
       "<style scoped>\n",
       "    .dataframe tbody tr th:only-of-type {\n",
       "        vertical-align: middle;\n",
       "    }\n",
       "\n",
       "    .dataframe tbody tr th {\n",
       "        vertical-align: top;\n",
       "    }\n",
       "\n",
       "    .dataframe thead th {\n",
       "        text-align: right;\n",
       "    }\n",
       "</style>\n",
       "<table border=\"1\" class=\"dataframe\">\n",
       "  <thead>\n",
       "    <tr style=\"text-align: right;\">\n",
       "      <th></th>\n",
       "      <th>Ele_Access_Hour</th>\n",
       "      <th>NumTimeFloorAccessed</th>\n",
       "    </tr>\n",
       "  </thead>\n",
       "  <tbody>\n",
       "    <tr>\n",
       "      <th>0</th>\n",
       "      <td>11</td>\n",
       "      <td>3</td>\n",
       "    </tr>\n",
       "    <tr>\n",
       "      <th>1</th>\n",
       "      <td>23</td>\n",
       "      <td>5</td>\n",
       "    </tr>\n",
       "  </tbody>\n",
       "</table>\n",
       "</div>"
      ],
      "text/plain": [
       "  Ele_Access_Hour  NumTimeFloorAccessed\n",
       "0              11                     3\n",
       "1              23                     5"
      ]
     },
     "execution_count": 85,
     "metadata": {},
     "output_type": "execute_result"
    }
   ],
   "source": [
    "Ele_Access_Hours_count = Ele_Access_Hours[['Person_Id', 'Ele_Access_Hour']].groupby(['Ele_Access_Hour'], as_index=False).count()\n",
    "Ele_Access_Hours_count.rename(columns={'Person_Id':'NumTimeFloorAccessed'}, inplace=True)\n"
   ]
  },
  {
   "cell_type": "code",
   "execution_count": 87,
   "metadata": {},
   "outputs": [
    {
     "data": {
      "text/plain": [
       "3.2"
      ]
     },
     "execution_count": 87,
     "metadata": {},
     "output_type": "execute_result"
    }
   ],
   "source": [
    "np.percentile(Ele_Access_Hours_count['NumTimeFloorAccessed'], 10)"
   ]
  },
  {
   "cell_type": "code",
   "execution_count": 83,
   "metadata": {},
   "outputs": [
    {
     "data": {
      "text/plain": [
       "<bound method AxesSubplot.get_ylim of <matplotlib.axes._subplots.AxesSubplot object at 0x10a6b3d10>>"
      ]
     },
     "execution_count": 83,
     "metadata": {},
     "output_type": "execute_result"
    }
   ],
   "source": []
  },
  {
   "cell_type": "code",
   "execution_count": null,
   "metadata": {},
   "outputs": [],
   "source": []
  }
 ],
 "metadata": {
  "kernelspec": {
   "display_name": "Python 2",
   "language": "python",
   "name": "python2"
  },
  "language_info": {
   "codemirror_mode": {
    "name": "ipython",
    "version": 2
   },
   "file_extension": ".py",
   "mimetype": "text/x-python",
   "name": "python",
   "nbconvert_exporter": "python",
   "pygments_lexer": "ipython2",
   "version": "2.7.14"
  }
 },
 "nbformat": 4,
 "nbformat_minor": 2
}
