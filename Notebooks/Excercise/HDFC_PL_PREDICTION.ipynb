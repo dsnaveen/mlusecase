{
 "cells": [
  {
   "cell_type": "code",
   "execution_count": 76,
   "metadata": {
    "collapsed": true
   },
   "outputs": [],
   "source": [
    "%matplotlib inline\n",
    "import pandas as pd\n",
    "from pandas.api.types import is_string_dtype\n",
    "from pandas.api.types import is_numeric_dtype"
   ]
  },
  {
   "cell_type": "code",
   "execution_count": 77,
   "metadata": {
    "collapsed": true
   },
   "outputs": [],
   "source": [
    "train_data_path = '/Users/naveenkumar/Desktop/AnalyticsVidhyaHackathon/train.csv'\n",
    "\n",
    "train_data = pd.read_csv(train_data_path, sep=',', low_memory=False)"
   ]
  },
  {
   "cell_type": "markdown",
   "metadata": {},
   "source": [
    "\n",
    "df.ix[10,:] gives you all the columns from the 10th row. \n",
    "In your case you want everything up to the 10th row which is df.ix[:9,:]. \n",
    "Note that the right end of the slice range is inclusive: \n"
   ]
  },
  {
   "cell_type": "code",
   "execution_count": 78,
   "metadata": {
    "collapsed": true
   },
   "outputs": [],
   "source": [
    "#s1 = train_data.iloc[:10000,:]\n",
    "s2 = train_data.sample(n=10000, random_state=42)        "
   ]
  },
  {
   "cell_type": "code",
   "execution_count": 127,
   "metadata": {
    "collapsed": true
   },
   "outputs": [],
   "source": [
    "def columntype(x):\n",
    "    t = ''\n",
    "    if is_numeric_dtype(x) == True:\n",
    "        t = 'numeric'\n",
    "    else:\n",
    "        t = 'string'\n",
    "    \n",
    "    return t\n",
    "\n",
    "def unique_value_counts(x,y):\n",
    "    if y <= 10:\n",
    "        return (s2[x].value_counts()).to_dict()"
   ]
  },
  {
   "cell_type": "code",
   "execution_count": 154,
   "metadata": {},
   "outputs": [
    {
     "name": "stderr",
     "output_type": "stream",
     "text": [
      "/Users/naveenkumar/anaconda/lib/python2.7/site-packages/ipykernel_launcher.py:20: UserWarning: Boolean Series key will be reindexed to match DataFrame index.\n"
     ]
    }
   ],
   "source": [
    "cmd = pd.DataFrame(s2.columns,columns=['column_name'])\n",
    "cmd['TotalRows'] = len(s2)\n",
    "cmd['TotalUniqueLevels'] = cmd['column_name'].apply(lambda col:s2[col].nunique())\n",
    "cmd['PercentUniqueValues'] = cmd['TotalUniqueLevels']/cmd['TotalRows']\n",
    "cmd['TotalNullValues'] = cmd['column_name'].apply(lambda col:s2[col].isnull().sum())\n",
    "cmd['PercentNullValues'] = cmd['TotalNullValues']/cmd['TotalRows']\n",
    "cmd['IdColFlag'] = cmd['TotalRows'] == cmd['TotalUniqueLevels']\n",
    "cmd['DataType'] = cmd['column_name'].apply(lambda col:columntype(s2[col]))\n",
    "#cmd['UniqueValue'] = cmd[['column_name','TotalUniqueLevels']].apply(lambda x: unique_value_counts(*x),axis=1)\n",
    "cmd['UniqueValue'] = cmd[cmd['TotalUniqueLevels'] < 11]['column_name'].apply(lambda col:(s2[col].value_counts()).to_dict())\n",
    "cmd['mean'] = cmd[cmd['DataType']=='numeric']['column_name'].apply(lambda col:round(s2[col].mean(),2))\n",
    "cmd['min'] = cmd[cmd['DataType']=='numeric']['column_name'].apply(lambda col:round(s2[col].min(),2))\n",
    "cmd['q1'] = cmd[cmd['DataType']=='numeric']['column_name'].apply(lambda col:round(s2[col].quantile(q=0.25),2))\n",
    "cmd['median'] = cmd[cmd['DataType']=='numeric']['column_name'].apply(lambda col:round(s2[col].median(),2))\n",
    "cmd['q3'] = cmd[cmd['DataType']=='numeric']['column_name'].apply(lambda col:round(s2[col].quantile(q=0.75),2))\n",
    "cmd['max'] = cmd[cmd['DataType']=='numeric']['column_name'].apply(lambda col:round(s2[col].max(),2))\n",
    "\n",
    "\n",
    "NullColumnList = list(cmd[cmd['TotalNullValues'] == cmd['TotalRows']]['column_name'])\n",
    "FixedColumns = list(cmd[cmd['TotalUniqueLevels'] == 1][cmd['TotalNullValues'] == 0]['column_name'])\n",
    "\n",
    "DropColList = NullColumnList + FixedColumns; \n",
    "\n",
    "SingleValueColumn = list(cmd[cmd['TotalUniqueLevels'] == 1]['column_name'])"
   ]
  },
  {
   "cell_type": "code",
   "execution_count": 160,
   "metadata": {},
   "outputs": [
    {
     "data": {
      "text/html": [
       "<div>\n",
       "<style>\n",
       "    .dataframe thead tr:only-child th {\n",
       "        text-align: right;\n",
       "    }\n",
       "\n",
       "    .dataframe thead th {\n",
       "        text-align: left;\n",
       "    }\n",
       "\n",
       "    .dataframe tbody tr th {\n",
       "        vertical-align: top;\n",
       "    }\n",
       "</style>\n",
       "<table border=\"1\" class=\"dataframe\">\n",
       "  <thead>\n",
       "    <tr style=\"text-align: right;\">\n",
       "      <th></th>\n",
       "      <th>column_name</th>\n",
       "      <th>TotalRows</th>\n",
       "      <th>TotalUniqueLevels</th>\n",
       "      <th>PercentUniqueValues</th>\n",
       "      <th>TotalNullValues</th>\n",
       "      <th>PercentNullValues</th>\n",
       "      <th>IdColFlag</th>\n",
       "      <th>DataType</th>\n",
       "      <th>UniqueValue</th>\n",
       "      <th>mean</th>\n",
       "      <th>min</th>\n",
       "      <th>q1</th>\n",
       "      <th>median</th>\n",
       "      <th>q3</th>\n",
       "      <th>max</th>\n",
       "    </tr>\n",
       "  </thead>\n",
       "  <tbody>\n",
       "    <tr>\n",
       "      <th>47</th>\n",
       "      <td>DC_SPEND_MON_03</td>\n",
       "      <td>10000</td>\n",
       "      <td>1424</td>\n",
       "      <td>0.1424</td>\n",
       "      <td>8206</td>\n",
       "      <td>0.8206</td>\n",
       "      <td>False</td>\n",
       "      <td>numeric</td>\n",
       "      <td>NaN</td>\n",
       "      <td>4147.35</td>\n",
       "      <td>0.01</td>\n",
       "      <td>560.25</td>\n",
       "      <td>1555.47</td>\n",
       "      <td>4354.61</td>\n",
       "      <td>107528.61</td>\n",
       "    </tr>\n",
       "  </tbody>\n",
       "</table>\n",
       "</div>"
      ],
      "text/plain": [
       "        column_name  TotalRows  TotalUniqueLevels  PercentUniqueValues  \\\n",
       "47  DC_SPEND_MON_03      10000               1424               0.1424   \n",
       "\n",
       "    TotalNullValues  PercentNullValues  IdColFlag DataType UniqueValue  \\\n",
       "47             8206             0.8206      False  numeric         NaN   \n",
       "\n",
       "       mean   min      q1   median       q3        max  \n",
       "47  4147.35  0.01  560.25  1555.47  4354.61  107528.61  "
      ]
     },
     "execution_count": 160,
     "metadata": {},
     "output_type": "execute_result"
    }
   ],
   "source": [
    "cmd.head(10)\n",
    "x = cmd[cmd['DataType']=='numeric']\n",
    "x[x['TotalNullValues'] > 0]['column_name']\n",
    "cmd[cmd['column_name'] == 'DC_SPEND_MON_03']"
   ]
  },
  {
   "cell_type": "markdown",
   "metadata": {},
   "source": [
    "columns with 1 or two values check what is the column data type and fill the missing value \n",
    "also check if unique values of these columns can be stored in column meta data\n"
   ]
  },
  {
   "cell_type": "code",
   "execution_count": 107,
   "metadata": {},
   "outputs": [
    {
     "data": {
      "text/plain": [
       "Y    573\n",
       "Name: PL_TAG, dtype: int64"
      ]
     },
     "execution_count": 107,
     "metadata": {},
     "output_type": "execute_result"
    }
   ],
   "source": [
    "s3 = s2.drop(DropColList, axis=1, inplace=False)\n",
    "ColAffinity = column_metadata['TotalUniqueLevels'].value_counts()\n",
    "\n",
    "x = column_metadata[column_metadata['TotalUniqueLevels']==1][['column_name', 'DataType']]\n",
    "#x['DataType'].value_counts()\n",
    "s2['PL_TAG']."
   ]
  },
  {
   "cell_type": "code",
   "execution_count": null,
   "metadata": {
    "collapsed": true
   },
   "outputs": [],
   "source": [
    "'''\n",
    "for col in x['column_name']:\n",
    "    \n",
    "    print s2[col].value_counts()\n",
    "    \n",
    "'''"
   ]
  },
  {
   "cell_type": "code",
   "execution_count": 104,
   "metadata": {},
   "outputs": [
    {
     "name": "stdout",
     "output_type": "stream",
     "text": [
      "SALARIED    10000\n",
      "Name: OCCUP_ALL_NEW, dtype: int64\n",
      "Y    179\n",
      "Name: TWL_TAG, dtype: int64\n"
     ]
    }
   ],
   "source": [
    "print(s2['OCCUP_ALL_NEW'].value_counts())\n",
    "print(s2['TWL_TAG'].value_counts())\n"
   ]
  },
  {
   "cell_type": "markdown",
   "metadata": {},
   "source": [
    "# s3 = s2.drop(NullColumnList, axis=1, inplace=False)\n",
    "s3.columns"
   ]
  },
  {
   "cell_type": "code",
   "execution_count": 58,
   "metadata": {},
   "outputs": [
    {
     "name": "stdout",
     "output_type": "stream",
     "text": [
      "                 date  duration  item    month    network network_type\n",
      "index                                                                 \n",
      "0      15/10/14 06:58    34.429  data  2014-11       data         data\n",
      "1      15/10/14 06:58    13.000  call  2014-11   Vodafone       mobile\n",
      "2      15/10/14 14:46    23.000  call  2014-11     Meteor       mobile\n",
      "3      15/10/14 14:48     4.000  call  2014-11      Tesco       mobile\n",
      "4      15/10/14 17:27     4.000  call  2014-11      Tesco       mobile\n",
      "5      15/10/14 18:55     4.000  call  2014-11      Tesco       mobile\n",
      "6      16/10/14 06:58    34.429  data  2014-11       data         data\n",
      "7      16/10/14 15:01   602.000  call  2014-11      Three       mobile\n",
      "8      16/10/14 15:12  1050.000  call  2014-11      Three       mobile\n",
      "9      16/10/14 15:30    19.000  call  2014-11  voicemail    voicemail\n"
     ]
    },
    {
     "data": {
      "text/plain": [
       "['2014-12', '2014-11', '2015-02', '2015-03', '2015-01']"
      ]
     },
     "execution_count": 58,
     "metadata": {},
     "output_type": "execute_result"
    }
   ],
   "source": [
    "import pandas as pd\n",
    "import dateutil\n",
    " \n",
    "# Load data from csv file\n",
    "data = pd.DataFrame.from_csv('phone_data.csv')\n",
    "\n",
    "print(data.head(10))\n",
    "\n",
    "# Convert date from string to date times\n",
    "data['date'] = data['date'].apply(dateutil.parser.parse, dayfirst=True)\n",
    "\n",
    "data['item'].count()\n",
    "data['duration'].max()\n",
    "data['duration'][data['item'] == 'call'].sum()\n",
    "data['month'].value_counts()\n",
    "data['network'].nunique()\n",
    "\n",
    "\n",
    "data.groupby(['month']).groups.keys()\n",
    "#len(data.groupby(['month']).groups['2014-11'])\n"
   ]
  },
  {
   "cell_type": "code",
   "execution_count": null,
   "metadata": {
    "collapsed": true
   },
   "outputs": [],
   "source": []
  }
 ],
 "metadata": {
  "kernelspec": {
   "display_name": "Python 2",
   "language": "python",
   "name": "python2"
  },
  "language_info": {
   "codemirror_mode": {
    "name": "ipython",
    "version": 2
   },
   "file_extension": ".py",
   "mimetype": "text/x-python",
   "name": "python",
   "nbconvert_exporter": "python",
   "pygments_lexer": "ipython2",
   "version": "2.7.14"
  }
 },
 "nbformat": 4,
 "nbformat_minor": 2
}
