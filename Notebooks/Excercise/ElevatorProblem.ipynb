{
 "cells": [
  {
   "cell_type": "code",
   "execution_count": 47,
   "metadata": {},
   "outputs": [],
   "source": [
    "%matplotlib inline\n",
    "import numpy as np\n",
    "import pandas as pd\n",
    "from datetime import datetime\n",
    "import warnings\n",
    "warnings.filterwarnings('ignore')"
   ]
  },
  {
   "cell_type": "code",
   "execution_count": 28,
   "metadata": {},
   "outputs": [],
   "source": [
    "exp_factor = 2.0\n",
    "\n",
    "def houroftheday(x):\n",
    "    tmp = datetime.strptime(x, '%d-%m-%Y %H:%M:%S')\n",
    "    return str(tmp.hour)\n",
    "\n",
    "def date(x):\n",
    "    tmp = datetime.strptime(x, '%d-%m-%Y %H:%M:%S')\n",
    "    return str(tmp.date())"
   ]
  },
  {
   "cell_type": "code",
   "execution_count": 33,
   "metadata": {},
   "outputs": [
    {
     "data": {
      "text/plain": [
       "<bound method Index.tolist of Index([u'Person_Id', u'Floor_in', u'Floor_in_time', u'Elevator_in_time',\n",
       "       u'Elevator_out_time', u'Floor_out'],\n",
       "      dtype='object')>"
      ]
     },
     "execution_count": 33,
     "metadata": {},
     "output_type": "execute_result"
    }
   ],
   "source": [
    "fdir = '/Users/naveenkumar/Dropbox/OnlineWork/Datasets/ElevatorProblem/'\n",
    "ds = pd.read_csv(fdir + 'input.csv')\n",
    "ds.columns.tolist\n",
    "\n",
    "#List of fields available\n",
    "Person_Id #person id\n",
    "Floor_in  #Floor from where Lift is boarded\n",
    "Floor_in_time #Time at which Person has entered on Floor\n",
    "Elevator_in_time #Time at which person has entered the elevator\n",
    "Elevator_out_time #Time at which person has exited the elevator\n",
    "Floor_out #Floor at which person has existed from lift\n"
   ]
  },
  {
   "cell_type": "markdown",
   "metadata": {},
   "source": [
    "There are multiple feature we intend to engineer, \n",
    "however due to limited time we have been able to develop few of them"
   ]
  },
  {
   "cell_type": "markdown",
   "metadata": {},
   "source": [
    "First feature captures how many different floor person is accessing on daily basis. The assumption is for a normal person there are few floor of interest for daily work even though he/she can visit other floor but once in while\n",
    "\n",
    "Hence we are engineering a variable which captures average number of floor accessed on daily basis"
   ]
  },
  {
   "cell_type": "code",
   "execution_count": 39,
   "metadata": {},
   "outputs": [
    {
     "name": "stdout",
     "output_type": "stream",
     "text": [
      "   Person_Id Elevator_in_date  DayCountOfFloorAccesses\n",
      "0          1       2018-04-03                        4\n",
      "1          1       2018-04-04                        2\n",
      "2          2       2018-04-03                        7\n",
      "3          3       2018-04-03                        5\n",
      "4          4       2018-04-03                        4\n",
      "   Person_Id  AvgNumFloorAccesses\n",
      "0          1                  3.0\n",
      "1          2                  7.0\n",
      "2          3                  5.0\n",
      "3          4                  4.0\n",
      "4          5                  6.0\n"
     ]
    }
   ],
   "source": [
    "FloorInAccess = ds[['Person_Id', 'Floor_in', 'Elevator_in_time']]\n",
    "FloorOutAccess = ds[['Person_Id', 'Floor_out', 'Elevator_in_time']]\n",
    "    \n",
    "FloorInAccess.rename(columns={'Floor_in':'Floor_id'}, inplace=True)\n",
    "FloorOutAccess.rename(columns={'Floor_out':'Floor_id'}, inplace=True)\n",
    "     \n",
    "AllFloorAccessed = pd.concat([FloorInAccess, FloorOutAccess])\n",
    "AllFloorAccessed['Elevator_in_date'] = AllFloorAccessed['Elevator_in_time'].apply(lambda  x:(date(x)))\n",
    "\n",
    "\n",
    "UniqueFloorAccessed = AllFloorAccessed.drop_duplicates(['Person_Id', 'Floor_id', 'Elevator_in_date'])\n",
    "\n",
    "FloorAccesses = UniqueFloorAccessed.groupby(['Person_Id', 'Elevator_in_date']).Floor_id.nunique().reset_index()\n",
    "FloorAccesses.rename(columns={'Floor_id' : 'DayCountOfFloorAccesses'}, inplace = True)\n",
    "PersonAvgFloorAccesses = FloorAccesses.groupby(['Person_Id'])['DayCountOfFloorAccesses'].mean().reset_index()\n",
    "PersonAvgFloorAccesses.rename(columns={'DayCountOfFloorAccesses' : 'AvgNumFloorAccesses'}, inplace = True)\n",
    "\n",
    "print (FloorAccesses.head())\n",
    "print (PersonAvgFloorAccesses.head())\n",
    "\n"
   ]
  },
  {
   "cell_type": "markdown",
   "metadata": {},
   "source": [
    "This variable intends to capture how consistently the user is accessing the lift during the odd hours.\n",
    "The odd hours is defined as hours during which the footfall is relatively low.\n",
    "\n",
    "We are assinging oddness score each hour of the day basis it footfall during that hour. To make the distinction more clear, we are exponentiating it.\n",
    "\n",
    "Then avergae this hour oddness score multiple trips for each user"
   ]
  },
  {
   "cell_type": "code",
   "execution_count": 43,
   "metadata": {},
   "outputs": [
    {
     "name": "stdout",
     "output_type": "stream",
     "text": [
      "  Ele_Access_Hour  NumTimeFloorAccessed  HourOddnessScore\n",
      "0              11                    54               4.0\n",
      "1              23                   273               1.0\n",
      "   Person_Id     Elevator_in_time Ele_Access_Hour  HourOddnessScore\n",
      "0          1  03-04-2018 23:12:30              23               1.0\n",
      "1          1  04-04-2018 11:12:30              11               4.0\n",
      "2          1  03-04-2018 11:12:30              11               4.0\n",
      "3          1  03-04-2018 11:12:30              11               4.0\n",
      "4          2  03-04-2018 23:12:30              23               1.0\n",
      "   Person_Id  HourOddnessScore\n",
      "0          1              3.25\n",
      "1          2              1.00\n",
      "2          3              1.00\n",
      "3          4              1.00\n",
      "4          5              1.00\n"
     ]
    }
   ],
   "source": [
    "EleAccessHours = ds[['Person_Id', 'Elevator_in_time']]\n",
    "EleAccessHours['Ele_Access_Hour'] = EleAccessHours['Elevator_in_time'].apply(lambda col:houroftheday(col))\n",
    "EleAccessHours_count = EleAccessHours[['Person_Id', 'Ele_Access_Hour']].groupby(['Ele_Access_Hour'], as_index=False).count()\n",
    "EleAccessHours_count.rename(columns={'Person_Id':'NumTimeFloorAccessed'}, inplace=True)\n",
    "EleAccessHours_count['HourOddnessScore'] = np.power(EleAccessHours_count['NumTimeFloorAccessed'].rank(ascending = False), exp_factor)\n",
    "print(EleAccessHours_count.head())\n",
    "\n",
    "EleAccessHoursOddness = pd.merge(EleAccessHours, EleAccessHours_count[['Ele_Access_Hour', 'HourOddnessScore']], on='Ele_Access_Hour', how='left')\n",
    "print(EleAccessHoursOddness.head())\n",
    "HourOddnessScore = EleAccessHoursOddness[['Person_Id', 'HourOddnessScore']].groupby(['Person_Id'], as_index=False).mean()\n",
    "print(HourOddnessScore.head())\n",
    "\n"
   ]
  },
  {
   "cell_type": "markdown",
   "metadata": {},
   "source": [
    "This variable intends to capture how consistently the user is accessing a floor \n",
    "during the odd hours when the particular floor is most deserted.\n",
    "The odd hours is defined as hours during which the footfall is relatively low.\n",
    "\n",
    "We are assinging oddness score each hour of the day basis it footfall during that hour on that floor. \n",
    "To make the distinction more clear, we are exponentiating it.\n",
    "\n",
    "Then avergae this hour oddness score multiple trips for each user"
   ]
  },
  {
   "cell_type": "code",
   "execution_count": 95,
   "metadata": {},
   "outputs": [
    {
     "name": "stdout",
     "output_type": "stream",
     "text": [
      "   Person_Id  FloorHourOddnessScore\n",
      "0          1                   3.25\n",
      "1          2                   1.00\n",
      "2          3                   1.00\n",
      "3          4                   1.00\n",
      "4          5                   1.00\n"
     ]
    }
   ],
   "source": [
    "#HourFloor Oddness...\n",
    "EleAccessHours = ds[['Person_Id', 'Elevator_out_time', 'Floor_out']]\n",
    "EleAccessHours['Ele_Access_Hour'] = EleAccessHours['Elevator_out_time'].apply(lambda col:houroftheday(col))\n",
    "\n",
    "EleAccessHours_count = EleAccessHours[['Person_Id', 'Floor_out', 'Ele_Access_Hour']].groupby(['Ele_Access_Hour', 'Floor_out'], as_index=False).count()\n",
    "EleAccessHours_count.rename(columns={'Person_Id':'NumTimeFloorAccessedInHour'}, inplace=True)\n",
    "\n",
    "floor_list = EleAccessHours_count['Floor_out'].unique()\n",
    "\n",
    "new_df = pd.DataFrame(data=None, columns= EleAccessHours_count.columns)\n",
    "new_df['FloorHourOddnessScore'] = np.nan\n",
    "\n",
    "\n",
    "for f in floor_list:\n",
    "    tmp = EleAccessHours_count[EleAccessHours_count['Floor_out']==f]\n",
    "    tmp['FloorHourOddnessScore'] = np.power(tmp['NumTimeFloorAccessedInHour'].rank(ascending = False), exp_factor)\n",
    "    new_df = new_df.append(tmp, ignore_index=True)\n",
    "    \n",
    "EleAccessHours_count_ = new_df    \n",
    "    \n",
    "EleAccessHoursOddness = pd.merge(EleAccessHours, EleAccessHours_count_[['Ele_Access_Hour', 'Floor_out','FloorHourOddnessScore']], on=['Ele_Access_Hour','Floor_out'], how='left')\n",
    "print(EleAccessHoursOddness.head())\n",
    "\n",
    "HourFloorOddnessScore = EleAccessHoursOddness[['Person_Id', 'FloorHourOddnessScore']].groupby(['Person_Id'], as_index=False).mean()\n",
    "print(HourFloorOddnessScore.head())\n"
   ]
  },
  {
   "cell_type": "markdown",
   "metadata": {},
   "source": [
    "Generating final feature space and checking for highly correlated features using heat map"
   ]
  },
  {
   "cell_type": "code",
   "execution_count": 52,
   "metadata": {},
   "outputs": [
    {
     "name": "stdout",
     "output_type": "stream",
     "text": [
      "   Person_Id  AvgNumFloorAccesses  HourOddnessScore  FloorHourOddnessScore\n",
      "0          1                  3.0              3.25              19.916667\n",
      "1          2                  7.0              1.00               4.666667\n",
      "2          3                  5.0              1.00               4.666667\n",
      "3          4                  4.0              1.00               4.666667\n",
      "4          5                  6.0              1.00               4.666667\n",
      "(95, 4)\n"
     ]
    },
    {
     "data": {
      "text/plain": [
       "<matplotlib.axes._subplots.AxesSubplot at 0x11773cc90>"
      ]
     },
     "execution_count": 52,
     "metadata": {},
     "output_type": "execute_result"
    },
    {
     "data": {
      "image/png": "[encoded data removed]",
      "text/plain": [
       "<matplotlib.figure.Figure at 0x11715f390>"
      ]
     },
     "metadata": {},
     "output_type": "display_data"
    }
   ],
   "source": [
    "FeatureSpace_ = PersonAvgFloorAccesses.merge(HourOddnessScore, left_on = 'Person_Id', right_on = 'Person_Id', how = 'left')\n",
    "\n",
    "FeatureSpace  = FeatureSpace_.merge(HourFloorOddnessScore, left_on = 'Person_Id', right_on = 'Person_Id', how = 'left')\n",
    "print FeatureSpace.head()\n",
    "print FeatureSpace.shape\n",
    "\n",
    "#Correlation map to see how features are correlated\n",
    "\n",
    "import matplotlib.pyplot as plt\n",
    "import seaborn as sns\n",
    "\n",
    "corrdf = FeatureSpace.drop(['Person_Id'], axis=1)\n",
    "corrmat = corrdf.corr()\n",
    "plt.subplots(figsize=(12,9))\n",
    "sns.heatmap(corrmat, vmax=0.9, square=True)"
   ]
  },
  {
   "cell_type": "markdown",
   "metadata": {},
   "source": [
    "Generating principal componenets of highly correlated feature"
   ]
  },
  {
   "cell_type": "code",
   "execution_count": 58,
   "metadata": {},
   "outputs": [
    {
     "name": "stdout",
     "output_type": "stream",
     "text": [
      "[1.]\n",
      "   Person_Id  AvgNumFloorAccesses  HourOddnessScore  FloorHourOddnessScore  \\\n",
      "0          1                  3.0              3.25              19.916667   \n",
      "1          2                  7.0              1.00               4.666667   \n",
      "2          3                  5.0              1.00               4.666667   \n",
      "3          4                  4.0              1.00               4.666667   \n",
      "4          5                  6.0              1.00               4.666667   \n",
      "\n",
      "   PCA_reduced_OddnessFeature  PCA_reduced_OddnessFeature  \n",
      "0                   11.898337                   11.898337  \n",
      "1                   -3.516753                   -3.516753  \n",
      "2                   -3.516753                   -3.516753  \n",
      "3                   -3.516753                   -3.516753  \n",
      "4                   -3.516753                   -3.516753  \n"
     ]
    }
   ],
   "source": [
    "\n",
    "\n",
    "X = FeatureSpace[['HourOddnessScore', 'FloorHourOddnessScore']].values\n",
    "\n",
    "import numpy as np\n",
    "from sklearn.decomposition import PCA\n",
    "\n",
    "pca = PCA(n_components=1)\n",
    "pca.fit(X)\n",
    "\n",
    "print(pca.explained_variance_ratio_)  \n",
    "\n",
    "ReducedFeature = pd.DataFrame(pca.transform(X), columns = ['PCA_reduced_OddnessFeature'])\n",
    "\n",
    "FeatureSpace = pd.concat([FeatureSpace, ReducedFeature], axis = 1)\n",
    "print (FeatureSpace.head())\n"
   ]
  },
  {
   "cell_type": "markdown",
   "metadata": {},
   "source": [
    "Running Agglomerative Clustering to identify likely number of clusters to expect from underlying data"
   ]
  },
  {
   "cell_type": "code",
   "execution_count": 59,
   "metadata": {},
   "outputs": [
    {
     "data": {
      "text/plain": [
       "AgglomerativeClustering(affinity='euclidean', compute_full_tree='auto',\n",
       "            connectivity=None, linkage='ward', memory=None, n_clusters=2,\n",
       "            pooling_func=<function mean at 0x110b85938>)"
      ]
     },
     "execution_count": 59,
     "metadata": {},
     "output_type": "execute_result"
    }
   ],
   "source": [
    "from sklearn.cluster import AgglomerativeClustering\n",
    "C = AgglomerativeClustering(linkage = \"ward\", n_clusters = 2)\n",
    "ML_in = FeatureSpace[['AvgNumFloorAccesses', 'HourOddnessScore', 'FloorHourOddnessScore', 'PCA_reduced_OddnessFeature']].values\n",
    "\n",
    "C.fit(ML_in)"
   ]
  },
  {
   "cell_type": "markdown",
   "metadata": {},
   "source": [
    "This code has been borrowed from internet as sklearn does not have a handy \n",
    "way of plotting dendograms for identify the number to start the clustering process"
   ]
  },
  {
   "cell_type": "code",
   "execution_count": 55,
   "metadata": {},
   "outputs": [],
   "source": [
    "from sklearn.cluster import AgglomerativeClustering\n",
    "import numpy as np\n",
    "import matplotlib.pyplot as plt\n",
    "from scipy.cluster.hierarchy import dendrogram\n",
    "\n",
    "def get_distances(X,model,mode='l2'):\n",
    "    distances = []\n",
    "    weights = []\n",
    "    children=model.children_\n",
    "    dims = (X.shape[1],1)\n",
    "    distCache = {}\n",
    "    weightCache = {}\n",
    "    for childs in children:\n",
    "        c1 = X[childs[0]].reshape(dims)\n",
    "        c2 = X[childs[1]].reshape(dims)\n",
    "        c1Dist = 0\n",
    "        c1W = 1\n",
    "        c2Dist = 0\n",
    "        c2W = 1\n",
    "        if childs[0] in distCache.keys():\n",
    "            c1Dist = distCache[childs[0]]\n",
    "            c1W = weightCache[childs[0]]\n",
    "        if childs[1] in distCache.keys():\n",
    "            c2Dist = distCache[childs[1]]\n",
    "            c2W = weightCache[childs[1]]\n",
    "        d = np.linalg.norm(c1-c2)\n",
    "        cc = ((c1W*c1)+(c2W*c2))/(c1W+c2W)\n",
    "\n",
    "        X = np.vstack((X,cc.T))\n",
    "\n",
    "        newChild_id = X.shape[0]-1\n",
    "\n",
    "        # How to deal with a higher level cluster merge with lower distance:\n",
    "        if mode=='l2':  # Increase the higher level cluster size suing an l2 norm\n",
    "            added_dist = (c1Dist**2+c2Dist**2)**0.5 \n",
    "            dNew = (d**2 + added_dist**2)**0.5\n",
    "        elif mode == 'max':  # If the previrous clusters had higher distance, use that one\n",
    "            dNew = max(d,c1Dist,c2Dist)\n",
    "        elif mode == 'actual':  # Plot the actual distance.\n",
    "            dNew = d\n",
    "\n",
    "\n",
    "        wNew = (c1W + c2W)\n",
    "        distCache[newChild_id] = dNew\n",
    "        weightCache[newChild_id] = wNew\n",
    "\n",
    "        distances.append(dNew)\n",
    "        weights.append( wNew)\n",
    "    return distances, weights\n"
   ]
  },
  {
   "cell_type": "markdown",
   "metadata": {},
   "source": [
    "Plotting dendogram"
   ]
  },
  {
   "cell_type": "code",
   "execution_count": 56,
   "metadata": {},
   "outputs": [
    {
     "data": {
      "image/png": "[encoded data removed]",
      "text/plain": [
       "<matplotlib.figure.Figure at 0x1177462d0>"
      ]
     },
     "metadata": {},
     "output_type": "display_data"
    }
   ],
   "source": [
    "distance, weight = get_distances(X,C)\n",
    "linkage_matrix = np.column_stack([C.children_, distance, weight]).astype(float)\n",
    "plt.figure(figsize=(20,10))\n",
    "dendrogram(linkage_matrix)\n",
    "plt.show()"
   ]
  },
  {
   "cell_type": "code",
   "execution_count": 62,
   "metadata": {},
   "outputs": [
    {
     "name": "stdout",
     "output_type": "stream",
     "text": [
      "[2 1 1 1 1 2 1 1 0 0 2 1 2 3 0 0 1 0 1 0 1 1 2 1 1 0 1 1 2 1 0 1 0 0 1 0 1\n",
      " 1 1 2 1 0 3 1 0 1 1 0 1 1 1 2 0 1 1 0 1 1 1 0 0 1 1 1 1 0 0 0 1 1 1 1 0 0\n",
      " 0 1 1 1 1 1 0 0 0 1 3 1 1 1 0 0 0 1 0 1 1]\n"
     ]
    }
   ],
   "source": [
    "from sklearn.cluster import KMeans\n",
    "\n",
    "K = KMeans(n_clusters=4, random_state=0)\n",
    "K.fit(X)\n",
    "print K.predict(X)"
   ]
  },
  {
   "cell_type": "code",
   "execution_count": 63,
   "metadata": {},
   "outputs": [
    {
     "name": "stdout",
     "output_type": "stream",
     "text": [
      "[1 0 0 0 0 1 0 0 3 3 1 0 1 2 3 3 0 3 0 3 0 0 1 0 0 3 0 0 1 0 3 0 3 3 0 3 0\n",
      " 0 0 1 0 3 2 0 3 0 0 3 0 0 0 1 3 0 0 3 0 0 0 3 3 0 0 0 0 3 3 3 0 0 0 0 3 3\n",
      " 3 0 0 0 0 0 3 3 3 0 2 0 0 0 3 3 3 0 3 0 0]\n"
     ]
    }
   ],
   "source": [
    "from sklearn.mixture import GaussianMixture\n",
    "\n",
    "G = GaussianMixture(n_components=4)\n",
    "G.fit(X)\n",
    "print G.predict(X)"
   ]
  },
  {
   "cell_type": "code",
   "execution_count": null,
   "metadata": {},
   "outputs": [],
   "source": []
  },
  {
   "cell_type": "code",
   "execution_count": null,
   "metadata": {},
   "outputs": [],
   "source": []
  },
  {
   "cell_type": "code",
   "execution_count": 93,
   "metadata": {},
   "outputs": [
    {
     "name": "stdout",
     "output_type": "stream",
     "text": [
      "Empty DataFrame\n",
      "Columns: [Ele_Access_Hour, Floor_out, NumTimeFloorAccessedInHour, FloorHourOddnessScore]\n",
      "Index: []\n",
      "  Ele_Access_Hour Floor_out NumTimeFloorAccessedInHour  FloorHourOddnessScore\n",
      "0              11         6                         18                    4.0\n",
      "1              23         6                         67                    1.0\n",
      "2              11         7                         18                    4.0\n",
      "3              23         7                        142                    1.0\n",
      "4              11        20                         18                    4.0\n",
      "5              23        20                         64                    1.0\n"
     ]
    }
   ],
   "source": [
    "n = ds[['Person_Id', 'Elevator_out_time', 'Floor_out']]\n",
    "n['Ele_Access_Hour'] = n['Elevator_out_time'].apply(lambda col:houroftheday(col))\n",
    "\n",
    "n_count = n[['Person_Id', 'Floor_out', 'Ele_Access_Hour']].groupby(['Ele_Access_Hour', 'Floor_out'], as_index=False).count()\n",
    "n_count.rename(columns={'Person_Id':'NumTimeFloorAccessedInHour'}, inplace=True)\n",
    "#print(n_count.head(100))\n",
    "\n"
   ]
  },
  {
   "cell_type": "code",
   "execution_count": 82,
   "metadata": {},
   "outputs": [
    {
     "name": "stdout",
     "output_type": "stream",
     "text": [
      "6\n",
      "7\n",
      "20\n"
     ]
    }
   ],
   "source": [
    "for f in floor_list:\n",
    "    print f"
   ]
  },
  {
   "cell_type": "code",
   "execution_count": null,
   "metadata": {},
   "outputs": [],
   "source": []
  }
 ],
 "metadata": {
  "kernelspec": {
   "display_name": "Python 2",
   "language": "python",
   "name": "python2"
  },
  "language_info": {
   "codemirror_mode": {
    "name": "ipython",
    "version": 2
   },
   "file_extension": ".py",
   "mimetype": "text/x-python",
   "name": "python",
   "nbconvert_exporter": "python",
   "pygments_lexer": "ipython2",
   "version": "2.7.14"
  }
 },
 "nbformat": 4,
 "nbformat_minor": 2
}
