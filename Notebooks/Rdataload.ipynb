{
 "cells": [
  {
   "cell_type": "code",
   "execution_count": 1,
   "metadata": {},
   "outputs": [],
   "source": [
    "library(data.table)"
   ]
  },
  {
   "cell_type": "code",
   "execution_count": 2,
   "metadata": {},
   "outputs": [
    {
     "name": "stdout",
     "output_type": "stream",
     "text": [
      "Read 0.0% of 372099 rows"
     ]
    },
    {
     "name": "stderr",
     "output_type": "stream",
     "text": [
      "Warning message in fread(\"/Users/naveenkumar/simility/quoka/quoka_uniq.csv\", stringsAsFactors = F, :\n",
      "“Bumped column 2124 to type character on data row 2938, field contains 'blacklisted'. Coercing previously read values in this column from logical, integer or numeric back to character which may not be lossless; e.g., if '00' and '000' occurred before they will now be just '0', and there may be inconsistencies with treatment of ',,' and ',NA,' too (if they occurred in this column before the bump). If this matters please rerun and set 'colClasses' to 'character' for this column. Please note that column type detection uses a sample of 1,000 rows (100 rows at 10 points) so hopefully this message should be very rare. If reporting to datatable-help, please rerun and include the output from verbose=TRUE.”Warning message in fread(\"/Users/naveenkumar/simility/quoka/quoka_uniq.csv\", stringsAsFactors = F, :\n",
      "“Bumped column 2557 to type character on data row 4281, field contains 'The address 185.251.200.129 is not in the database.'. Coercing previously read values in this column from logical, integer or numeric back to character which may not be lossless; e.g., if '00' and '000' occurred before they will now be just '0', and there may be inconsistencies with treatment of ',,' and ',NA,' too (if they occurred in this column before the bump). If this matters please rerun and set 'colClasses' to 'character' for this column. Please note that column type detection uses a sample of 1,000 rows (100 rows at 10 points) so hopefully this message should be very rare. If reporting to datatable-help, please rerun and include the output from verbose=TRUE.”"
     ]
    },
    {
     "name": "stdout",
     "output_type": "stream",
     "text": [
      "Read 2.7% of 372099 rows"
     ]
    },
    {
     "name": "stderr",
     "output_type": "stream",
     "text": [
      "Warning message in fread(\"/Users/naveenkumar/simility/quoka/quoka_uniq.csv\", stringsAsFactors = F, :\n",
      "“Bumped column 779 to type character on data row 13481, field contains '34233 Fuld'. Coercing previously read values in this column from logical, integer or numeric back to character which may not be lossless; e.g., if '00' and '000' occurred before they will now be just '0', and there may be inconsistencies with treatment of ',,' and ',NA,' too (if they occurred in this column before the bump). If this matters please rerun and set 'colClasses' to 'character' for this column. Please note that column type detection uses a sample of 1,000 rows (100 rows at 10 points) so hopefully this message should be very rare. If reporting to datatable-help, please rerun and include the output from verbose=TRUE.”"
     ]
    },
    {
     "name": "stdout",
     "output_type": "stream",
     "text": [
      "Read 371198 rows and 2583 (of 2583) columns from 4.388 GB file in 00:01:28\n"
     ]
    }
   ],
   "source": [
    "df=fread(\"/Users/naveenkumar/simility/quoka/quoka_uniq.csv\",stringsAsFactors = F,data.table = F,na.strings = \"\",integer64 = \"double\",sep = \",\",quote = \"~\")"
   ]
  },
  {
   "cell_type": "code",
   "execution_count": 3,
   "metadata": {},
   "outputs": [
    {
     "data": {
      "text/html": [
       "<ol class=list-inline>\n",
       "\t<li><time datetime=\"2018-04-10\">2018-04-10</time></li>\n",
       "\t<li><time datetime=\"2018-04-20\">2018-04-20</time></li>\n",
       "\t<li><time datetime=\"2018-04-20\">2018-04-20</time></li>\n",
       "\t<li><time datetime=\"2018-04-02\">2018-04-02</time></li>\n",
       "\t<li><time datetime=\"2018-04-20\">2018-04-20</time></li>\n",
       "\t<li><time datetime=\"2018-04-20\">2018-04-20</time></li>\n",
       "</ol>\n"
      ],
      "text/latex": [
       "\\begin{enumerate*}\n",
       "\\item 2018-04-10\n",
       "\\item 2018-04-20\n",
       "\\item 2018-04-20\n",
       "\\item 2018-04-02\n",
       "\\item 2018-04-20\n",
       "\\item 2018-04-20\n",
       "\\end{enumerate*}\n"
      ],
      "text/markdown": [
       "1. 2018-04-10\n",
       "2. 2018-04-20\n",
       "3. 2018-04-20\n",
       "4. 2018-04-02\n",
       "5. 2018-04-20\n",
       "6. 2018-04-20\n",
       "\n",
       "\n"
      ],
      "text/plain": [
       "[1] \"2018-04-10\" \"2018-04-20\" \"2018-04-20\" \"2018-04-02\" \"2018-04-20\"\n",
       "[6] \"2018-04-20\""
      ]
     },
     "metadata": {},
     "output_type": "display_data"
    }
   ],
   "source": [
    "as.Date(head(df$sim_creation_date))"
   ]
  },
  {
   "cell_type": "code",
   "execution_count": 4,
   "metadata": {},
   "outputs": [
    {
     "data": {
      "text/plain": [
       "\n",
       " FALSE   TRUE \n",
       " 12881 358317 "
      ]
     },
     "metadata": {},
     "output_type": "display_data"
    }
   ],
   "source": [
    "table(as.Date(df$sim_creation_date) > '2017-01-30')"
   ]
  },
  {
   "cell_type": "code",
   "execution_count": 5,
   "metadata": {},
   "outputs": [],
   "source": [
    "df=df[as.Date(df$sim_creation_date) > '2017-01-30',]"
   ]
  },
  {
   "cell_type": "code",
   "execution_count": 6,
   "metadata": {},
   "outputs": [
    {
     "name": "stdout",
     "output_type": "stream",
     "text": [
      "Read 4506988 rows and 5 (of 5) columns from 0.354 GB file in 00:00:26\n"
     ]
    }
   ],
   "source": [
    "decisionData=fread(\"/Users/naveenkumar/simility/quoka/quoka_y.csv\",stringsAsFactors = F,data.table = F)"
   ]
  },
  {
   "cell_type": "code",
   "execution_count": 7,
   "metadata": {},
   "outputs": [
    {
     "data": {
      "text/html": [
       "0"
      ],
      "text/latex": [
       "0"
      ],
      "text/markdown": [
       "0"
      ],
      "text/plain": [
       "[1] 0"
      ]
     },
     "metadata": {},
     "output_type": "display_data"
    }
   ],
   "source": [
    "length(setdiff(df$eid,decisionData$eid))"
   ]
  },
  {
   "cell_type": "code",
   "execution_count": 8,
   "metadata": {},
   "outputs": [
    {
     "data": {
      "text/html": [
       "<ol class=list-inline>\n",
       "\t<li>'decisionData'</li>\n",
       "\t<li>'df'</li>\n",
       "</ol>\n"
      ],
      "text/latex": [
       "\\begin{enumerate*}\n",
       "\\item 'decisionData'\n",
       "\\item 'df'\n",
       "\\end{enumerate*}\n"
      ],
      "text/markdown": [
       "1. 'decisionData'\n",
       "2. 'df'\n",
       "\n",
       "\n"
      ],
      "text/plain": [
       "[1] \"decisionData\" \"df\"          "
      ]
     },
     "metadata": {},
     "output_type": "display_data"
    }
   ],
   "source": [
    "ls()"
   ]
  },
  {
   "cell_type": "code",
   "execution_count": 9,
   "metadata": {},
   "outputs": [
    {
     "data": {
      "text/html": [
       "<ol class=list-inline>\n",
       "\t<li>4506988</li>\n",
       "\t<li>5</li>\n",
       "</ol>\n"
      ],
      "text/latex": [
       "\\begin{enumerate*}\n",
       "\\item 4506988\n",
       "\\item 5\n",
       "\\end{enumerate*}\n"
      ],
      "text/markdown": [
       "1. 4506988\n",
       "2. 5\n",
       "\n",
       "\n"
      ],
      "text/plain": [
       "[1] 4506988       5"
      ]
     },
     "metadata": {},
     "output_type": "display_data"
    }
   ],
   "source": [
    "dim(decisionData)"
   ]
  },
  {
   "cell_type": "code",
   "execution_count": 17,
   "metadata": {},
   "outputs": [
    {
     "data": {
      "text/html": [
       "<ol class=list-inline>\n",
       "\t<li>'eid'</li>\n",
       "\t<li>'sim_created_at'</li>\n",
       "\t<li>'sim_creation_date'</li>\n",
       "\t<li>'sim_dc'</li>\n",
       "\t<li>'sim_updated_at'</li>\n",
       "</ol>\n"
      ],
      "text/latex": [
       "\\begin{enumerate*}\n",
       "\\item 'eid'\n",
       "\\item 'sim\\_created\\_at'\n",
       "\\item 'sim\\_creation\\_date'\n",
       "\\item 'sim\\_dc'\n",
       "\\item 'sim\\_updated\\_at'\n",
       "\\end{enumerate*}\n"
      ],
      "text/markdown": [
       "1. 'eid'\n",
       "2. 'sim_created_at'\n",
       "3. 'sim_creation_date'\n",
       "4. 'sim_dc'\n",
       "5. 'sim_updated_at'\n",
       "\n",
       "\n"
      ],
      "text/plain": [
       "[1] \"eid\"               \"sim_created_at\"    \"sim_creation_date\"\n",
       "[4] \"sim_dc\"            \"sim_updated_at\"   "
      ]
     },
     "metadata": {},
     "output_type": "display_data"
    }
   ],
   "source": [
    "colnames(decisionData)"
   ]
  },
  {
   "cell_type": "code",
   "execution_count": 18,
   "metadata": {},
   "outputs": [],
   "source": [
    "decision = subset(decisionData, select=c(\"eid\", \"sim_dc\"))"
   ]
  },
  {
   "cell_type": "code",
   "execution_count": 19,
   "metadata": {},
   "outputs": [
    {
     "data": {
      "text/html": [
       "<ol class=list-inline>\n",
       "\t<li>'eid'</li>\n",
       "\t<li>'sim_dc'</li>\n",
       "</ol>\n"
      ],
      "text/latex": [
       "\\begin{enumerate*}\n",
       "\\item 'eid'\n",
       "\\item 'sim\\_dc'\n",
       "\\end{enumerate*}\n"
      ],
      "text/markdown": [
       "1. 'eid'\n",
       "2. 'sim_dc'\n",
       "\n",
       "\n"
      ],
      "text/plain": [
       "[1] \"eid\"    \"sim_dc\""
      ]
     },
     "metadata": {},
     "output_type": "display_data"
    }
   ],
   "source": [
    "colnames(decision)"
   ]
  },
  {
   "cell_type": "code",
   "execution_count": 10,
   "metadata": {},
   "outputs": [
    {
     "data": {
      "text/html": [
       "TRUE"
      ],
      "text/latex": [
       "TRUE"
      ],
      "text/markdown": [
       "TRUE"
      ],
      "text/plain": [
       "[1] TRUE"
      ]
     },
     "metadata": {},
     "output_type": "display_data"
    }
   ],
   "source": [
    "\"201738651\" %in% decisionData$eid"
   ]
  },
  {
   "cell_type": "code",
   "execution_count": 11,
   "metadata": {},
   "outputs": [],
   "source": [
    "tombstoneCols     <- grep(\"tombstone\",colnames(df),value = T)\n",
    "variabilityCols   <- grep(\"variability\",colnames(df),value = T)\n",
    "badnessCols       <- c(grep(\"num_bad\",colnames(df),value = T),grep(\"badnessratio\",colnames(df),value = T))\n",
    "tsCols            <- grep(\"_ts_\",colnames(df),value = T)\n",
    "lifetimeCountCols <- grep(\"_lifetime_count$\",colnames(df),value = T)\n",
    "lifetimeSumCols   <- grep(\"_lifetime_sum$\",colnames(df),value = T)\n",
    "eidCols           <- grep(\"_eid$\",colnames(df),value = T)\n",
    "numDaysCols       <- grep(\"_numdays_\",colnames(df),value = T)\n",
    "fuzzyDeviceCols   <- grep(\"fuzzy_device\",colnames(df),value = T)"
   ]
  },
  {
   "cell_type": "code",
   "execution_count": 12,
   "metadata": {},
   "outputs": [],
   "source": [
    "str_cols = c('device_id_ip_ews_connection_type_ml_v2',\n",
    "'sim_pipeline_triggered_reason',\n",
    "'device_id_ip_isp',\n",
    "'city_category_sim_frequently_used',\n",
    "'ad_place_path_sim_creation_date',\n",
    "'device_id_ip_ews_country_name',\n",
    "'ad_city',\n",
    "'ad_email_domain_copy',\n",
    "'ad_email_domain_sim_frequently_used',\n",
    "'device_id_ip_ews_isp',\n",
    "'ad_status',\n",
    "'user_phone_1_eid',\n",
    "'ad_country',\n",
    "'ad_phone_1_sim_creation_date',\n",
    "'user_id_sim_creation_date',\n",
    "'sim_creation_date',\n",
    "'ad_address_sim_frequently_used',\n",
    "'ad_email_domain_sim_creation_date',\n",
    "'sim_ps1',\n",
    "'ad_ad_content_email_matching_flag_ml_v2',\n",
    "'city_category',\n",
    "'device_signals_eid',\n",
    "'ad_place_path',\n",
    "'device_id_ip_eid',\n",
    "'sim_qadtr',\n",
    "'sim_ps',\n",
    "'city_category_sim_creation_date',\n",
    "'ad_email_address',\n",
    "'city_category_eid',\n",
    "'ad_image_1',\n",
    "'device_id_ip_ews_connection_type',\n",
    "'sim_ll',\n",
    "'session_id_sim_creation_date',\n",
    "'device_id_ip_ews_autonomous_system_organization',\n",
    "'ad_email_domain',\n",
    "'device_id_eid',\n",
    "'ad_text_phone_number_content_sim_creation_date',\n",
    "'date',\n",
    "'user_email',\n",
    "'ad_email_address_sim_creation_date',\n",
    "'device_id_ip_ews_is_satellite_provider',\n",
    "'ad_dealtype',\n",
    "'device_id_ip_ews_country_iso_code',\n",
    "'user_email_address_sim_frequently_used',\n",
    "'ad_phone_1',\n",
    "'ad_place_path_eid',\n",
    "'user_id_sim_queues',\n",
    "'user_phone_1_sim_frequently_used',\n",
    "'sim_dc_reasons',\n",
    "'session_id_eid',\n",
    "'user_address_sim_creation_date',\n",
    "'user_first_name',\n",
    "'ad_place_path_sim_frequently_used',\n",
    "'user_id_sim_dc_reasons',\n",
    "'ad_text_md5_sim_frequently_used',\n",
    "'ad_phone_1_sim_frequently_used',\n",
    "'user_street',\n",
    "'ad_dealtype_ml_v2',\n",
    "'user_email_address_sim_creation_date',\n",
    "'user_address_sim_frequently_used',\n",
    "'user_city',\n",
    "'ad_email_address_eid',\n",
    "'ad_text_md5',\n",
    "'user_holder',\n",
    "'device_id_ip_ews_continent_name',\n",
    "'ad_text',\n",
    "'ad_commercial_ml_v2',\n",
    "'device_id_ip_ews_tor',\n",
    "'device_id_ip_country',\n",
    "'ad_address_eid',\n",
    "'session_id',\n",
    "'user_email_address',\n",
    "'device_id_ip_ews_continent_name_ml_v2',\n",
    "'ad_place_name',\n",
    "'user_phone_1_copy',\n",
    "'ad_headline_1_sim_creation_date',\n",
    "'sim_audit_source',\n",
    "'user_id_sim_frequently_used',\n",
    "'user_id_sim_qnote',\n",
    "'ad_email_address_sim_frequently_used',\n",
    "'user_address_eid',\n",
    "'device_id_ip_sim_frequently_used',\n",
    "'username_sim_creation_date',\n",
    "'session_id_sim_frequently_used',\n",
    "'user_last_name',\n",
    "'user_address',\n",
    "'sim_dc',\n",
    "'sim_qnote',\n",
    "'username_eid',\n",
    "'ad_place_path_copy',\n",
    "'ad_text_phone_number_content_sim_frequently_used',\n",
    "'ad_headline',\n",
    "'device_id_ip_ews_city_name',\n",
    "'device_id_ip_ews_subdivisions_name',\n",
    "'device_id_ip_ews_is_anonymous_proxy',\n",
    "'sim_frequently_used',\n",
    "'sim_wl',\n",
    "'ad_address',\n",
    "'user_id_sim_qadtr',\n",
    "'ad_text_md5_ad_text',\n",
    "'device_id_ip_ews_time_zone',\n",
    "'device_id_sim_creation_date',\n",
    "'device_id_ip_sim_creation_date',\n",
    "'ad_address_copy',\n",
    "'ad_email',\n",
    "'ad_text_1',\n",
    "'device_id_ip',\n",
    "'ad_headline_1_sim_frequently_used',\n",
    "'device_id_ip_ews_domain',\n",
    "'ad_text_md5_sim_creation_date',\n",
    "'user_phone_1_sim_creation_date',\n",
    "'first_name',\n",
    "'last_name',\n",
    "'ad_user_phone_matching_flag_ml_v2',\n",
    "'ad_address_sim_creation_date',\n",
    "'user_city_1',\n",
    "'ad_city_1',\n",
    "'user_phone_1',\n",
    "'user_country',\n",
    "'device_id',\n",
    "'device_id_ip_ews_registered_country_name',\n",
    "'ad_headline_1',\n",
    "'ad_price_type',\n",
    "'user_email_address_eid',\n",
    "'device_id_ip_ews_organization',\n",
    "'ad_headline_1_eid',\n",
    "'user_id_sim_dc',\n",
    "'ad_text_md5_eid',\n",
    "'sim_q',\n",
    "'ad_email_domain_eid',\n",
    "'user_id_sim_wl',\n",
    "'sim_queues',\n",
    "'username',\n",
    "'username_sim_frequently_used',\n",
    "'device_id_ip_ews_registered_country_iso_code',\n",
    "'device_id_ip_city',\n",
    "'ad_phone_1_eid',\n",
    "'ad_source',\n",
    "'device_id_sim_frequently_used',\n",
    "'ad_image_hash_1_sim_local_feedback_status',\n",
    "'device_os_family',\n",
    "'device_browser_family',\n",
    "'ad_image_hash_1',\n",
    "'ad_image_hash_1_eid',\n",
    "'ad_image_hash_1_sim_creation_date',\n",
    "'ad_image_hash_1_sim_frequently_used',\n",
    "'device_language',\n",
    "'device_session_id',\n",
    "'device_id_ip_ews_postal_code',\n",
    "'user_suburb',\n",
    "'ad_suburb',\n",
    "'device_id_ip_ews_represented_country_code',\n",
    "'device_id_ip_ews_represented_country_name',\n",
    "'device_id_ip_ews_represented_country_type',\n",
    "'ad_text_email_content_copy_sim_creation_date',\n",
    "'ad_text_email_content_sim_frequently_used',\n",
    "'ad_text_email_content_copy_sim_frequently_used',\n",
    "'ad_text_email_content_sim_creation_date',\n",
    "'ad_text_email_content_copy_eid',\n",
    "'ad_text_email_content_eid',\n",
    "'ad_text_email_content_copy',\n",
    "'ad_text_email_content',\n",
    "'device_id_ip_proxy',\n",
    "'browserdata',\n",
    "'device_id_ip_ews_geo_error')"
   ]
  },
  {
   "cell_type": "code",
   "execution_count": 13,
   "metadata": {},
   "outputs": [],
   "source": [
    "noInfoCols=unique(c(str_cols,tombstoneCols,variabilityCols,badnessCols,tsCols,lifetimeCountCols,lifetimeSumCols,eidCols,numDaysCols,fuzzyDeviceCols))"
   ]
  },
  {
   "cell_type": "code",
   "execution_count": null,
   "metadata": {},
   "outputs": [],
   "source": [
    "\n"
   ]
  },
  {
   "cell_type": "code",
   "execution_count": 14,
   "metadata": {},
   "outputs": [
    {
     "data": {
      "text/html": [
       "1120"
      ],
      "text/latex": [
       "1120"
      ],
      "text/markdown": [
       "1120"
      ],
      "text/plain": [
       "[1] 1120"
      ]
     },
     "metadata": {},
     "output_type": "display_data"
    }
   ],
   "source": [
    "length(noInfoCols)"
   ]
  },
  {
   "cell_type": "code",
   "execution_count": 13,
   "metadata": {},
   "outputs": [
    {
     "data": {
      "text/html": [
       "<ol class=list-inline>\n",
       "\t<li>358317</li>\n",
       "\t<li>2583</li>\n",
       "</ol>\n"
      ],
      "text/latex": [
       "\\begin{enumerate*}\n",
       "\\item 358317\n",
       "\\item 2583\n",
       "\\end{enumerate*}\n"
      ],
      "text/markdown": [
       "1. 358317\n",
       "2. 2583\n",
       "\n",
       "\n"
      ],
      "text/plain": [
       "[1] 358317   2583"
      ]
     },
     "metadata": {},
     "output_type": "display_data"
    }
   ],
   "source": [
    "dim(df)"
   ]
  },
  {
   "cell_type": "code",
   "execution_count": 15,
   "metadata": {},
   "outputs": [],
   "source": [
    "df=df[,!colnames(df) %in% noInfoCols]"
   ]
  },
  {
   "cell_type": "code",
   "execution_count": 16,
   "metadata": {},
   "outputs": [
    {
     "data": {
      "text/html": [
       "<ol class=list-inline>\n",
       "\t<li>358317</li>\n",
       "\t<li>1466</li>\n",
       "</ol>\n"
      ],
      "text/latex": [
       "\\begin{enumerate*}\n",
       "\\item 358317\n",
       "\\item 1466\n",
       "\\end{enumerate*}\n"
      ],
      "text/markdown": [
       "1. 358317\n",
       "2. 1466\n",
       "\n",
       "\n"
      ],
      "text/plain": [
       "[1] 358317   1466"
      ]
     },
     "metadata": {},
     "output_type": "display_data"
    }
   ],
   "source": [
    "dim(df)"
   ]
  },
  {
   "cell_type": "code",
   "execution_count": 20,
   "metadata": {},
   "outputs": [
    {
     "data": {
      "text/html": [
       "<ol class=list-inline>\n",
       "\t<li>358317</li>\n",
       "\t<li>1467</li>\n",
       "</ol>\n"
      ],
      "text/latex": [
       "\\begin{enumerate*}\n",
       "\\item 358317\n",
       "\\item 1467\n",
       "\\end{enumerate*}\n"
      ],
      "text/markdown": [
       "1. 358317\n",
       "2. 1467\n",
       "\n",
       "\n"
      ],
      "text/plain": [
       "[1] 358317   1467"
      ]
     },
     "metadata": {},
     "output_type": "display_data"
    }
   ],
   "source": [
    "df_xy = merge.data.frame(x = df, y = decision, by = \"eid\")\n",
    "dim(df_xy)"
   ]
  },
  {
   "cell_type": "code",
   "execution_count": 21,
   "metadata": {},
   "outputs": [],
   "source": [
    "write.csv(df_xy,file = \"/Users/naveenkumar/simility/quoka/quoka_uniq_filtered_cols.csv\",row.names = F,na=\"\")"
   ]
  },
  {
   "cell_type": "code",
   "execution_count": 23,
   "metadata": {},
   "outputs": [
    {
     "name": "stderr",
     "output_type": "stream",
     "text": [
      "Warning message in rm(\"df\", \"decisionData\", \"decision\"):\n",
      "“object 'df' not found”Warning message in rm(\"df\", \"decisionData\", \"decision\"):\n",
      "“object 'decision' not found”"
     ]
    }
   ],
   "source": [
    "rm(\"df\", \"decisionData\", \"decision\")"
   ]
  },
  {
   "cell_type": "code",
   "execution_count": null,
   "metadata": {},
   "outputs": [],
   "source": []
  }
 ],
 "metadata": {
  "kernelspec": {
   "display_name": "R",
   "language": "R",
   "name": "ir"
  },
  "language_info": {
   "codemirror_mode": "r",
   "file_extension": ".r",
   "mimetype": "text/x-r-source",
   "name": "R",
   "pygments_lexer": "r",
   "version": "3.4.3"
  }
 },
 "nbformat": 4,
 "nbformat_minor": 2
}
